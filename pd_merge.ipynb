{
 "cells": [
  {
   "cell_type": "code",
   "execution_count": 1,
   "id": "1b7315e8-ace8-4a65-a3cd-9100df948dde",
   "metadata": {},
   "outputs": [
    {
     "name": "stdout",
     "output_type": "stream",
     "text": [
      "            Sales_place_name  Mercedes  Ford  Tata  Renault\n",
      "Sales place                                                \n",
      "One                 Europe 1         2     3     9       12\n",
      "Two              Australia 1         4     0     3        1\n",
      "      Sales_place_name  Mercedes  Ford  Tata  Renault\n",
      "Seven  South America 1         3     2     1        1\n",
      "Eight           Asia 1         4     1     1        0\n",
      "       Volvo  Tesla\n",
      "One        3      2\n",
      "Nine       4      8\n",
      "Three      0      0\n",
      "Six        0      1\n",
      "Seven      1      1\n",
      "    Sales_place_name  Mercedes  Ford  Tata  Renault\n",
      "One         Europe 1         2     3     9       12\n",
      "Two      Australia 1         4     0     3        1\n"
     ]
    }
   ],
   "source": [
    "import pandas as pd\n",
    "\n",
    "# Create four Pandas DataFrames\n",
    "\n",
    "# This is the basic Carsales DataFrame\n",
    "Cardata = { \"Mercedes\": [2, 4, 0, 4, 0, 3], \"Ford\": [3, 0, 0, 1, 6, 12], \"Tata\":[9, 3, 4, 1, 0, 0], \"Renault\":[12, 1, 0, 0, 3, 1]}\n",
    "Carsales = pd.DataFrame(Cardata)\n",
    "Carsales.index.rename(\"Sales place\", inplace=True)\n",
    "Carsales.rename(index={0: \"One\", 1: \"Two\", 2: \"Three\", 3: \"Four\", 4: \"Five\", 5: \"Six\"}, inplace=True)\n",
    "Carsales.insert(0, \"Sales_place_name\", [\"Europe 1\", \"Australia 1\", \"USA 1\", \"Asia 1\", \"Africa 1\", \"South America 1\"], allow_duplicates=False)\n",
    "print(Carsales.head(2))\n",
    "\n",
    "# This DataFrame may add two Salesplaces to our DataFrame, vertically.\n",
    "Carsales2 = pd.DataFrame({\"Sales_place_name\": [\"South America 1\", \"Asia 1\"], \"Mercedes\": [3, 4], \"Ford\": [2, 1], \"Tata\": [1, 1], \"Renault\": [1, 0]})\n",
    "Carsales2.rename(index={0: \"Seven\", 1: \"Eight\"}, inplace=True)\n",
    "print(Carsales2)\n",
    "\n",
    "# This DataFrame contains two Carbrands columns which can be added to the Carsales DataFrame, horizontally.\n",
    "Carsales3 = pd.DataFrame({\"Volvo\": [3, 4, 0, 0, 1], \"Tesla\": [2, 8, 0, 1, 1]})\n",
    "Carsales3.rename(index={0: \"One\", 1: \"Nine\", 2: \"Three\", 3: \"Six\", 4: \"Seven\", 5: \"Eight\"}, inplace=True)\n",
    "print(Carsales3)\n",
    "\n",
    "# This DataFrame may be used display the .concat functions handling of duplicates.\n",
    "Carsales4 = pd.DataFrame({\"Sales_place_name\": [\"Europe 1\", \"Australia 1\"], \"Mercedes\": [2, 4], \"Ford\": [3, 0], \"Tata\": [9, 3], \"Renault\": [12, 1]})\n",
    "Carsales4.rename(index={0: \"One\", 1: \"Two\"}, inplace=True)\n",
    "print(Carsales4)"
   ]
  },
  {
   "cell_type": "code",
   "execution_count": 5,
   "id": "848e9b9b-b3cc-4540-9769-5fdc7df3ded2",
   "metadata": {},
   "outputs": [
    {
     "name": "stdout",
     "output_type": "stream",
     "text": [
      "            Sales_place_name  Mercedes  Ford  Tata  Renault  Volvo  Tesla\n",
      "Sales place                                                              \n",
      "One                 Europe 1         2     3     9       12    3.0    2.0\n",
      "Two              Australia 1         4     0     3        1    NaN    NaN\n",
      "Three                  USA 1         0     0     4        0    0.0    0.0\n",
      "Four                  Asia 1         4     1     1        0    NaN    NaN\n",
      "Five                Africa 1         0     6     0        3    NaN    NaN\n",
      "Six          South America 1         3    12     0        1    0.0    1.0\n"
     ]
    }
   ],
   "source": [
    "Carsales5 = Carsales.join(Carsales3, how='left')\n",
    "print(Carsales5)"
   ]
  },
  {
   "cell_type": "code",
   "execution_count": 8,
   "id": "91a8127a-0c34-4b10-8a6f-5712bdb48f4a",
   "metadata": {},
   "outputs": [
    {
     "name": "stdout",
     "output_type": "stream",
     "text": [
      "      Sales_place_name  Mercedes  Ford  Tata  Renault  Volvo  Tesla\n",
      "One           Europe 1       2.0   3.0   9.0     12.0      3      2\n",
      "Nine               NaN       NaN   NaN   NaN      NaN      4      8\n",
      "Three            USA 1       0.0   0.0   4.0      0.0      0      0\n",
      "Six    South America 1       3.0  12.0   0.0      1.0      0      1\n",
      "Seven              NaN       NaN   NaN   NaN      NaN      1      1\n"
     ]
    }
   ],
   "source": [
    "Carsales6 = Carsales.join(Carsales3, how='right')\n",
    "print(Carsales6)"
   ]
  },
  {
   "cell_type": "code",
   "execution_count": 9,
   "id": "3d4d52b6-f076-449e-9816-6cf8e307908c",
   "metadata": {},
   "outputs": [
    {
     "name": "stdout",
     "output_type": "stream",
     "text": [
      "      Sales_place_name  Mercedes  Ford  Tata  Renault  Volvo  Tesla\n",
      "One           Europe 1         2     3     9       12      3      2\n",
      "Three            USA 1         0     0     4        0      0      0\n",
      "Six    South America 1         3    12     0        1      0      1\n"
     ]
    }
   ],
   "source": [
    "Carsales7 = Carsales.join(Carsales3, how='inner')\n",
    "print(Carsales7)"
   ]
  },
  {
   "cell_type": "code",
   "execution_count": 10,
   "id": "8d8ef666-0608-425c-a310-d71f35867020",
   "metadata": {},
   "outputs": [
    {
     "name": "stdout",
     "output_type": "stream",
     "text": [
      "      Sales_place_name  Mercedes  Ford  Tata  Renault  Volvo  Tesla\n",
      "Five          Africa 1       0.0   6.0   0.0      3.0    NaN    NaN\n",
      "Four            Asia 1       4.0   1.0   1.0      0.0    NaN    NaN\n",
      "Nine               NaN       NaN   NaN   NaN      NaN    4.0    8.0\n",
      "One           Europe 1       2.0   3.0   9.0     12.0    3.0    2.0\n",
      "Seven              NaN       NaN   NaN   NaN      NaN    1.0    1.0\n",
      "Six    South America 1       3.0  12.0   0.0      1.0    0.0    1.0\n",
      "Three            USA 1       0.0   0.0   4.0      0.0    0.0    0.0\n",
      "Two        Australia 1       4.0   0.0   3.0      1.0    NaN    NaN\n"
     ]
    }
   ],
   "source": [
    "Carsales8 = Carsales.join(Carsales3, how='outer')\n",
    "print(Carsales8)"
   ]
  },
  {
   "cell_type": "code",
   "execution_count": 12,
   "id": "b15521e1-d8d8-4ac6-bfc1-b7eb4180ae35",
   "metadata": {},
   "outputs": [
    {
     "name": "stdout",
     "output_type": "stream",
     "text": [
      "   Sales_place_name  Mercedes  Ford  Tata  Renault  Volvo  Tesla\n",
      "0          Europe 1         2     3     9       12      3      2\n",
      "1          Europe 1         2     3     9       12      4      8\n",
      "2          Europe 1         2     3     9       12      0      0\n",
      "3          Europe 1         2     3     9       12      0      1\n",
      "4          Europe 1         2     3     9       12      1      1\n",
      "5       Australia 1         4     0     3        1      3      2\n",
      "6       Australia 1         4     0     3        1      4      8\n",
      "7       Australia 1         4     0     3        1      0      0\n",
      "8       Australia 1         4     0     3        1      0      1\n",
      "9       Australia 1         4     0     3        1      1      1\n",
      "10            USA 1         0     0     4        0      3      2\n",
      "11            USA 1         0     0     4        0      4      8\n",
      "12            USA 1         0     0     4        0      0      0\n",
      "13            USA 1         0     0     4        0      0      1\n",
      "14            USA 1         0     0     4        0      1      1\n",
      "15           Asia 1         4     1     1        0      3      2\n",
      "16           Asia 1         4     1     1        0      4      8\n",
      "17           Asia 1         4     1     1        0      0      0\n",
      "18           Asia 1         4     1     1        0      0      1\n",
      "19           Asia 1         4     1     1        0      1      1\n",
      "20         Africa 1         0     6     0        3      3      2\n",
      "21         Africa 1         0     6     0        3      4      8\n",
      "22         Africa 1         0     6     0        3      0      0\n",
      "23         Africa 1         0     6     0        3      0      1\n",
      "24         Africa 1         0     6     0        3      1      1\n",
      "25  South America 1         3    12     0        1      3      2\n",
      "26  South America 1         3    12     0        1      4      8\n",
      "27  South America 1         3    12     0        1      0      0\n",
      "28  South America 1         3    12     0        1      0      1\n",
      "29  South America 1         3    12     0        1      1      1\n"
     ]
    }
   ],
   "source": [
    "# Cross joins yeild all possible combinations.  This causes a loss of indices\n",
    "# These are used mostly for math, simulations and combinatorial data\n",
    "Carsales9 = Carsales.join(Carsales3, how='cross')\n",
    "print(Carsales9)"
   ]
  },
  {
   "cell_type": "code",
   "execution_count": null,
   "id": "65a49c45-49c8-4348-805a-ff500bf37ba3",
   "metadata": {},
   "outputs": [],
   "source": []
  }
 ],
 "metadata": {
  "kernelspec": {
   "display_name": "Python 3 (ipykernel)",
   "language": "python",
   "name": "python3"
  },
  "language_info": {
   "codemirror_mode": {
    "name": "ipython",
    "version": 3
   },
   "file_extension": ".py",
   "mimetype": "text/x-python",
   "name": "python",
   "nbconvert_exporter": "python",
   "pygments_lexer": "ipython3",
   "version": "3.13.5"
  }
 },
 "nbformat": 4,
 "nbformat_minor": 5
}
