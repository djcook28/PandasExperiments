{
 "cells": [
  {
   "cell_type": "code",
   "execution_count": 1,
   "id": "4f64dc34-a7ae-4008-8d81-a58d4da39f49",
   "metadata": {},
   "outputs": [
    {
     "name": "stdout",
     "output_type": "stream",
     "text": [
      "      Sales_place_name  Mercedes  Ford  Tata  Renault Rating Target\n",
      "One           Europe 1         2     3     9       12   high      Y\n",
      "Two        Australia 1         4     0     3        1   med.      Y\n",
      "Three            USA 1         0     0     4        0    low      Y\n",
      "Four            Asia 1         4     1     1        0    low      N\n",
      "Five          Africa 1         0     6     0        3   med.      N\n",
      "Six    South America 1         3    12     0        1   high      N\n",
      "            Sales_place_name  Mercedes  Ford  Tata  Renault Rating Target\n",
      "Sales place                                                              \n",
      "One                 Europe 1         2     3     9       12   high      Y\n",
      "Two              Australia 1         4     0     3        1   med.      Y\n",
      "Three                  USA 1         0     0     4        0    low      Y\n",
      "Four                  Asia 1         4     1     1        0    low      N\n",
      "Five                Africa 1         0     6     0        3   med.      N\n",
      "Six          South America 1         3    12     0        1   high      N\n",
      "Seven        South America 1         3     2     1        1    low      N\n",
      "Eight                 Asia 1         4     1     1        0    low      N\n"
     ]
    }
   ],
   "source": [
    "# Create three Pandas DataFrames\n",
    "import pandas as pd\n",
    "\n",
    "# This code will become the Carsales DataFrame extended with two more Sales places plus the \"Rating\" and \"Target\" columns.\n",
    "Cardata = { \"Mercedes\": [2, 4, 0, 4, 0, 3], \"Ford\": [3, 0, 0, 1, 6, 12], \"Tata\":[9, 3, 4, 1, 0, 0], \"Renault\":[12, 1, 0, 0, 3, 1], \"Rating\":[\"high\", \"med.\", \"low\", \"low\", \"med.\", \"high\"], \"Target\":[\"Y\", \"Y\", \"Y\", \"N\", \"N\", \"N\"]}\n",
    "Carsales = pd.DataFrame(Cardata)\n",
    "Carsales.rename(index={0: \"One\", 1: \"Two\", 2: \"Three\", 3: \"Four\", 4: \"Five\", 5: \"Six\"}, inplace=True)\n",
    "Carsales.insert(0, \"Sales_place_name\", [\"Europe 1\", \"Australia 1\", \"USA 1\", \"Asia 1\", \"Africa 1\", \"South America 1\"], allow_duplicates=True)\n",
    "Carsales2 = pd.DataFrame({\"Sales_place_name\": [\"South America 1\", \"Asia 1\"], \"Mercedes\": [3, 4], \"Ford\": [2, 1], \"Tata\": [1, 1], \"Renault\": [1, 0], \"Rating\": [\"low\", \"low\"], \"Target\":[\"N\", \"N\"]})\n",
    "Carsales2.rename(index={0: \"Seven\", 1: \"Eight\"}, inplace=True)\n",
    "Carsales3 = pd.concat([Carsales, Carsales2])\n",
    "Carsales3.index.rename(\"Sales place\", inplace=True)\n",
    "print(Carsales)\n",
    "print(Carsales3)"
   ]
  },
  {
   "cell_type": "code",
   "execution_count": 2,
   "id": "205ebb49-2415-4c23-b0f4-bba99e069f04",
   "metadata": {},
   "outputs": [
    {
     "name": "stdout",
     "output_type": "stream",
     "text": [
      "Sales place            One          Two  Three    Four      Five  \\\n",
      "Sales_place_name  Europe 1  Australia 1  USA 1  Asia 1  Africa 1   \n",
      "Mercedes                 2            4      0       4         0   \n",
      "Ford                     3            0      0       1         6   \n",
      "Tata                     9            3      4       1         0   \n",
      "Renault                 12            1      0       0         3   \n",
      "Rating                high         med.    low     low      med.   \n",
      "Target                   Y            Y      Y       N         N   \n",
      "\n",
      "Sales place                   Six            Seven   Eight  \n",
      "Sales_place_name  South America 1  South America 1  Asia 1  \n",
      "Mercedes                        3                3       4  \n",
      "Ford                           12                2       1  \n",
      "Tata                            0                1       1  \n",
      "Renault                         1                1       0  \n",
      "Rating                       high              low     low  \n",
      "Target                          N                N       N  \n"
     ]
    }
   ],
   "source": [
    "Carsales4 = Carsales3.transpose()\n",
    "print(Carsales4)"
   ]
  },
  {
   "cell_type": "code",
   "execution_count": 3,
   "id": "fb1eb9aa-d5aa-45aa-87c4-1cc0b139cc46",
   "metadata": {},
   "outputs": [
    {
     "name": "stdout",
     "output_type": "stream",
     "text": [
      "            Sales_place_name Mercedes Ford Tata Renault Rating Target\n",
      "Sales place                                                          \n",
      "One                 Europe 1        2    3    9      12   high      Y\n",
      "Two              Australia 1        4    0    3       1   med.      Y\n",
      "Three                  USA 1        0    0    4       0    low      Y\n",
      "Four                  Asia 1        4    1    1       0    low      N\n",
      "Five                Africa 1        0    6    0       3   med.      N\n",
      "Six          South America 1        3   12    0       1   high      N\n",
      "Seven        South America 1        3    2    1       1    low      N\n",
      "Eight                 Asia 1        4    1    1       0    low      N\n"
     ]
    }
   ],
   "source": [
    "# transposing twice returns the original\n",
    "print(Carsales4.transpose())"
   ]
  },
  {
   "cell_type": "code",
   "execution_count": 5,
   "id": "6a6b8960-d48b-4672-afe1-d16aa6a34a5e",
   "metadata": {},
   "outputs": [
    {
     "name": "stdout",
     "output_type": "stream",
     "text": [
      "Rating            high  low  med.\n",
      "Sales_place_name                 \n",
      "Africa 1           NaN  NaN   0.0\n",
      "Asia 1             NaN  4.0   NaN\n",
      "Australia 1        NaN  NaN   4.0\n",
      "Europe 1           2.0  NaN   NaN\n",
      "South America 1    3.0  NaN   NaN\n",
      "USA 1              NaN  0.0   NaN\n"
     ]
    }
   ],
   "source": [
    "Carsales6 = Carsales.pivot(index='Sales_place_name', columns='Rating', values='Mercedes')\n",
    "print(Carsales6)"
   ]
  },
  {
   "cell_type": "code",
   "execution_count": 6,
   "id": "2d959fcc-65e7-40ee-9871-562294a75d7b",
   "metadata": {},
   "outputs": [
    {
     "name": "stdout",
     "output_type": "stream",
     "text": [
      "Rating           high med.  low      med. high\n",
      "Target              Y    Y    Y    N    N    N\n",
      "Sales_place_name                              \n",
      "Africa 1          NaN  NaN  NaN  NaN  0.0  NaN\n",
      "Asia 1            NaN  NaN  NaN  4.0  NaN  NaN\n",
      "Australia 1       NaN  4.0  NaN  NaN  NaN  NaN\n",
      "Europe 1          2.0  NaN  NaN  NaN  NaN  NaN\n",
      "South America 1   NaN  NaN  NaN  NaN  NaN  3.0\n",
      "USA 1             NaN  NaN  0.0  NaN  NaN  NaN\n"
     ]
    }
   ],
   "source": [
    "# Pivot can be used with multiple columns or multiple values\n",
    "Carsales7 = Carsales.pivot(index='Sales_place_name', columns=['Rating', 'Target'], values='Mercedes')\n",
    "print(Carsales7)"
   ]
  },
  {
   "cell_type": "code",
   "execution_count": 7,
   "id": "2cf4d6ff-e0e0-41ac-b40f-308638496b0a",
   "metadata": {},
   "outputs": [
    {
     "name": "stdout",
     "output_type": "stream",
     "text": [
      "                 Mercedes            Ford          \n",
      "Rating               high  low med.  high  low med.\n",
      "Sales_place_name                                   \n",
      "Africa 1              NaN  NaN  0.0   NaN  NaN  6.0\n",
      "Asia 1                NaN  4.0  NaN   NaN  1.0  NaN\n",
      "Australia 1           NaN  NaN  4.0   NaN  NaN  0.0\n",
      "Europe 1              2.0  NaN  NaN   3.0  NaN  NaN\n",
      "South America 1       3.0  NaN  NaN  12.0  NaN  NaN\n",
      "USA 1                 NaN  0.0  NaN   NaN  0.0  NaN\n"
     ]
    }
   ],
   "source": [
    "Carsales7 = Carsales.pivot(index='Sales_place_name', columns='Rating', values=['Mercedes', 'Ford'])\n",
    "print(Carsales7)"
   ]
  },
  {
   "cell_type": "code",
   "execution_count": 9,
   "id": "be36d52b-396e-48ae-a3ee-bfb410e891a5",
   "metadata": {},
   "outputs": [
    {
     "name": "stdout",
     "output_type": "stream",
     "text": [
      "Rating  high  low  med.\n",
      "Target                 \n",
      "N          3    4     0\n",
      "Y          2    0     4\n"
     ]
    }
   ],
   "source": [
    "Carsales8 = Carsales.pivot(index='Target', columns='Rating', values='Mercedes')\n",
    "print(Carsales8)"
   ]
  },
  {
   "cell_type": "code",
   "execution_count": 11,
   "id": "dbc231a5-e179-48bb-b691-faf8ce1ad887",
   "metadata": {},
   "outputs": [
    {
     "name": "stdout",
     "output_type": "stream",
     "text": [
      "            Sales_place_name  Mercedes  Ford  Tata  Renault Rating Target\n",
      "Sales place                                                              \n",
      "One                 Europe 1         2     3     9       12   high      Y\n",
      "Two              Australia 1         4     0     3        1   med.      Y\n",
      "Three                  USA 1         0     0     4        0    low      Y\n",
      "Four                  Asia 1         4     1     1        0    low      N\n",
      "Five                Africa 1         0     6     0        3   med.      N\n",
      "Six          South America 1         3    12     0        1   high      N\n",
      "Seven        South America 1         3     2     1        1    low      N\n",
      "Eight                 Asia 1         4     1     1        0    low      N\n",
      "       Ford    Mercedes    Renault     Tata   \n",
      "Target    N  Y        N  Y       N   Y    N  Y\n",
      "Rating                                        \n",
      "high     12  3        3  2       1  12    0  9\n",
      "low       4  0       11  0       1   0    3  4\n",
      "med.      6  0        0  4       3   1    0  3\n"
     ]
    }
   ],
   "source": [
    "Carsales9 = Carsales3.pivot_table(values=['Mercedes', 'Ford', 'Tata', 'Renault'], index='Rating', \n",
    "                                  columns='Target', aggfunc='sum')\n",
    "print(Carsales3)\n",
    "print(Carsales9)\n",
    "                        "
   ]
  },
  {
   "cell_type": "code",
   "execution_count": 14,
   "id": "637494b7-2474-4e52-be16-7f9c40cea33c",
   "metadata": {},
   "outputs": [
    {
     "name": "stdout",
     "output_type": "stream",
     "text": [
      "Rating  high  low  med.\n",
      "Target                 \n",
      "N          3    4     0\n",
      "Y          2    0     4\n",
      "  Rating  Mercedes\n",
      "0   high         3\n",
      "1   high         2\n",
      "2    low         4\n",
      "3    low         0\n",
      "4   med.         0\n",
      "5   med.         4\n"
     ]
    }
   ],
   "source": [
    "# Melting can reverse a pivot by any data not included in the pivot has to be readded\n",
    "Carsales10 = pd.melt(Carsales8, value_vars=['high', 'low', 'med.'], value_name='Mercedes')\n",
    "print(Carsales8)\n",
    "print(Carsales10)"
   ]
  },
  {
   "cell_type": "code",
   "execution_count": 15,
   "id": "d2fe71e6-fed6-4c1e-a6d6-4ade7d955f38",
   "metadata": {},
   "outputs": [
    {
     "name": "stdout",
     "output_type": "stream",
     "text": [
      "Rating Target  high  low  med.\n",
      "0           N     3    4     0\n",
      "1           Y     2    0     4\n",
      "  Target Rating  Mercedes\n",
      "0      N   high         3\n",
      "1      Y   high         2\n",
      "2      N    low         4\n",
      "3      Y    low         0\n",
      "4      N   med.         0\n",
      "5      Y   med.         4\n"
     ]
    }
   ],
   "source": [
    "\n",
    "Carsales8.reset_index(inplace=True)\n",
    "Carsales10 = pd.melt(Carsales8, id_vars='Target', value_vars=['high', 'low', 'med.'], value_name='Mercedes')\n",
    "print(Carsales8)\n",
    "print(Carsales10)"
   ]
  },
  {
   "cell_type": "code",
   "execution_count": null,
   "id": "4faa01cb-2a8b-4ab0-8a5e-3fca510c2885",
   "metadata": {},
   "outputs": [],
   "source": []
  }
 ],
 "metadata": {
  "kernelspec": {
   "display_name": "Python 3 (ipykernel)",
   "language": "python",
   "name": "python3"
  },
  "language_info": {
   "codemirror_mode": {
    "name": "ipython",
    "version": 3
   },
   "file_extension": ".py",
   "mimetype": "text/x-python",
   "name": "python",
   "nbconvert_exporter": "python",
   "pygments_lexer": "ipython3",
   "version": "3.13.5"
  }
 },
 "nbformat": 4,
 "nbformat_minor": 5
}
