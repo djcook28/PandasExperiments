{
 "cells": [
  {
   "cell_type": "code",
   "execution_count": 9,
   "id": "76798dfa-b1eb-41ca-b613-961b8be2a45f",
   "metadata": {},
   "outputs": [
    {
     "name": "stdout",
     "output_type": "stream",
     "text": [
      "       Mercedes  Ford  Tata  Renault\n",
      "One           2     3     9       12\n",
      "Two           4     0     3        1\n",
      "Three         0     0     4        0\n",
      "Four          4     1     1        0\n",
      "Five          0     6     0        3\n",
      "Six           3    12     0        1\n"
     ]
    }
   ],
   "source": [
    "import pandas as pd\n",
    "\n",
    "# This is the basic Carsales DataFrame extended with two more Sales places plus the index column transformed to a feature column.\n",
    "Cardata = { \"Mercedes\": [2, 4, 0, 4, 0, 3], \"Ford\": [3, 0, 0, 1, 6, 12], \"Tata\":[9, 3, 4, 1, 0, 0], \"Renault\":[12, 1, 0, 0, 3, 1]}\n",
    "Carsales = pd.DataFrame(Cardata)\n",
    "Carsales.rename(index={0: \"One\", 1: \"Two\", 2: \"Three\", 3: \"Four\", 4: \"Five\", 5: \"Six\"}, inplace=True)\n",
    "print(Carsales)"
   ]
  },
  {
   "cell_type": "code",
   "execution_count": 10,
   "id": "0364af39-db5b-4a0f-9cb8-4630587d14b0",
   "metadata": {},
   "outputs": [
    {
     "name": "stdout",
     "output_type": "stream",
     "text": [
      "     Mercedes  Ford  Tata  Renault\n",
      "sum        13    22    17       17\n",
      "max         4    12     9       12\n",
      "min         0     0     0        0\n"
     ]
    }
   ],
   "source": [
    "print(Carsales.agg(['sum', 'max', 'min']))"
   ]
  },
  {
   "cell_type": "code",
   "execution_count": 13,
   "id": "e21d238c-7fc2-4e05-9b0b-5c11596a2f70",
   "metadata": {},
   "outputs": [
    {
     "name": "stdout",
     "output_type": "stream",
     "text": [
      "         Ford\n",
      "Sum        22\n",
      "Maximum    12\n",
      "Minimum     0\n"
     ]
    }
   ],
   "source": [
    "# Statistics for specific column\n",
    "print(Carsales.agg(Sum=('Ford', 'sum'), Maximum=('Ford', 'max'), Minimum=('Ford', 'min')))"
   ]
  },
  {
   "cell_type": "code",
   "execution_count": 18,
   "id": "e1470a1d-0725-49e6-936d-b5c8b4d543b2",
   "metadata": {},
   "outputs": [
    {
     "name": "stdout",
     "output_type": "stream",
     "text": [
      "       Ford  Tata\n",
      "sum    22.0    17\n",
      "max    12.0     9\n",
      "min     0.0     0\n",
      "count   NaN     6\n"
     ]
    }
   ],
   "source": [
    "# stats for specific columns\n",
    "print(Carsales.agg({'Ford': ['sum','max','min'], 'Tata': ['sum','max','min','count']}))"
   ]
  },
  {
   "cell_type": "code",
   "execution_count": 19,
   "id": "702947b9-42fd-4ce1-a5e9-9700ed178ad1",
   "metadata": {},
   "outputs": [
    {
     "name": "stdout",
     "output_type": "stream",
     "text": [
      "Ford        22\n",
      "Mercedes    13\n",
      "Tata        17\n",
      "dtype: int64\n"
     ]
    }
   ],
   "source": [
    "# stats by column\n",
    "print(Carsales[['Ford', 'Mercedes', 'Tata']].agg('sum'))"
   ]
  },
  {
   "cell_type": "code",
   "execution_count": 21,
   "id": "dc186e5e-cd1e-48c4-91b9-a1fd46959ec5",
   "metadata": {},
   "outputs": [
    {
     "name": "stdout",
     "output_type": "stream",
     "text": [
      "One      6.50\n",
      "Two      2.00\n",
      "Three    1.00\n",
      "Four     1.50\n",
      "Five     2.25\n",
      "Six      4.00\n",
      "dtype: float64\n"
     ]
    }
   ],
   "source": [
    "# stats by row\n",
    "print(Carsales.agg('mean', axis='columns'))"
   ]
  },
  {
   "cell_type": "code",
   "execution_count": 22,
   "id": "90960862-9ead-4ee4-867e-9ab794694d48",
   "metadata": {},
   "outputs": [
    {
     "name": "stdout",
     "output_type": "stream",
     "text": [
      "       Mercedes       Ford      Tata    Renault\n",
      "count  6.000000   6.000000  6.000000   6.000000\n",
      "mean   2.166667   3.666667  2.833333   2.833333\n",
      "std    1.834848   4.676181  3.430258   4.622409\n",
      "min    0.000000   0.000000  0.000000   0.000000\n",
      "25%    0.500000   0.250000  0.250000   0.250000\n",
      "50%    2.500000   2.000000  2.000000   1.000000\n",
      "75%    3.750000   5.250000  3.750000   2.500000\n",
      "max    4.000000  12.000000  9.000000  12.000000\n"
     ]
    }
   ],
   "source": [
    "# describe creates standard statistics for the df\n",
    "print(Carsales.describe())"
   ]
  },
  {
   "cell_type": "code",
   "execution_count": 24,
   "id": "bf884cbd-8640-451c-8f71-ec519b3125ea",
   "metadata": {},
   "outputs": [
    {
     "name": "stdout",
     "output_type": "stream",
     "text": [
      "Ford\n",
      "0     2\n",
      "3     1\n",
      "1     1\n",
      "6     1\n",
      "12    1\n",
      "Name: count, dtype: int64\n"
     ]
    }
   ],
   "source": [
    "# the number of indices that contain a value\n",
    "# 2 indexes contain 0 for Ford for example\n",
    "print(Carsales['Ford'].value_counts())"
   ]
  },
  {
   "cell_type": "code",
   "execution_count": 25,
   "id": "bee4e40a-9b3e-4024-a7e6-1fc142bb852a",
   "metadata": {},
   "outputs": [
    {
     "name": "stdout",
     "output_type": "stream",
     "text": [
      "Ford\n",
      "0     0.333333\n",
      "3     0.166667\n",
      "1     0.166667\n",
      "6     0.166667\n",
      "12    0.166667\n",
      "Name: proportion, dtype: float64\n"
     ]
    }
   ],
   "source": [
    "# setting normalize to True gives a distribution\n",
    "print(Carsales['Ford'].value_counts(normalize=True))"
   ]
  },
  {
   "cell_type": "code",
   "execution_count": 28,
   "id": "311966d0-f73f-4dc2-a5af-3654651e1988",
   "metadata": {},
   "outputs": [
    {
     "name": "stdout",
     "output_type": "stream",
     "text": [
      "       Mercedes  Ford  Tata  Renault  Total Sales\n",
      "One           2     3     9       12           26\n",
      "Two           4     0     3        1            8\n",
      "Three         0     0     4        0            4\n",
      "Four          4     1     1        0            6\n",
      "Five          0     6     0        3            9\n",
      "Six           3    12     0        1           16\n"
     ]
    }
   ],
   "source": [
    "Carsales['Total Sales'] = Carsales[Carsales.columns].sum(axis=1)\n",
    "print(Carsales)"
   ]
  },
  {
   "cell_type": "code",
   "execution_count": 31,
   "id": "68185f31-0e57-46c5-9945-cccc0c8b094a",
   "metadata": {},
   "outputs": [
    {
     "name": "stdout",
     "output_type": "stream",
     "text": [
      "       Mercedes  Ford  Tata  Renault  Total Sales        Rating\n",
      "One           2     3     9       12           26     Excellent\n",
      "Two           4     0     3        1            8    Acceptable\n",
      "Three         0     0     4        0            4  Unacceptable\n",
      "Four          4     1     1        0            6    Acceptable\n",
      "Five          0     6     0        3            9    Acceptable\n",
      "Six           3    12     0        1           16     Excellent\n"
     ]
    }
   ],
   "source": [
    "# apply can be used to execute functions across the df\n",
    "def sales_rating(n_sold):\n",
    "    if n_sold >= 15:\n",
    "        return 'Excellent'\n",
    "    elif n_sold >= 5:\n",
    "        return 'Acceptable'\n",
    "    else:\n",
    "        return 'Unacceptable'\n",
    "\n",
    "Carsales['Rating'] = Carsales['Total Sales'].apply(sales_rating)\n",
    "print(Carsales)"
   ]
  },
  {
   "cell_type": "code",
   "execution_count": null,
   "id": "44a14827-4e7c-4883-a7a2-6673048ebd65",
   "metadata": {},
   "outputs": [],
   "source": []
  }
 ],
 "metadata": {
  "kernelspec": {
   "display_name": "Python 3 (ipykernel)",
   "language": "python",
   "name": "python3"
  },
  "language_info": {
   "codemirror_mode": {
    "name": "ipython",
    "version": 3
   },
   "file_extension": ".py",
   "mimetype": "text/x-python",
   "name": "python",
   "nbconvert_exporter": "python",
   "pygments_lexer": "ipython3",
   "version": "3.13.5"
  }
 },
 "nbformat": 4,
 "nbformat_minor": 5
}
