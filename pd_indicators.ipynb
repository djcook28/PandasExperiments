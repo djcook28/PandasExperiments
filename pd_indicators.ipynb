{
 "cells": [
  {
   "cell_type": "code",
   "execution_count": 9,
   "id": "76798dfa-b1eb-41ca-b613-961b8be2a45f",
   "metadata": {},
   "outputs": [
    {
     "name": "stdout",
     "output_type": "stream",
     "text": [
      "      age     sex     bmi  children smoker     region      charges\n",
      "0      19  female  27.900         0    yes  southwest  16884.92400\n",
      "1      18    male  33.770         1     no  southeast   1725.55230\n",
      "2      28    male  33.000         3     no  southeast   4449.46200\n",
      "3      33    male  22.705         0     no  northwest  21984.47061\n",
      "4      32    male  28.880         0     no  northwest   3866.85520\n",
      "...   ...     ...     ...       ...    ...        ...          ...\n",
      "1333   50    male  30.970         3     no  northwest  10600.54830\n",
      "1334   18  female  31.920         0     no  northeast   2205.98080\n",
      "1335   18  female  36.850         0     no  southeast   1629.83350\n",
      "1336   21  female  25.800         0     no  southwest   2007.94500\n",
      "1337   61  female  29.070         0    yes  northwest  29141.36030\n",
      "\n",
      "[1338 rows x 7 columns]\n"
     ]
    }
   ],
   "source": [
    "import pandas as pd\n",
    "import statsmodels.formula.api as sm  # this library will be used to demonstrate Indicator features.\n",
    "\n",
    "# The medical costs dataset \"insurance.csv\" can be downloaded from Github.com and loaded into a Pandas DataFrame using this codeline. \n",
    "med_cost_df = pd.read_csv(\"https://raw.githubusercontent.com/stedy/Machine-Learning-with-R-datasets/master/insurance.csv\")\n",
    "# Alternatively, the medical costs dataset can be downloaded from the video lecture as a resource, moved/copied into your\n",
    "# Python directory and loaded into a Pandas DataFrame with this code\n",
    "# med_cost_DF = pd.read_csv(\"insurance_data.csv\")\n",
    "print(med_cost_df)"
   ]
  },
  {
   "cell_type": "code",
   "execution_count": 10,
   "id": "b45f64a5-fe99-4cee-8b23-19dd99858feb",
   "metadata": {},
   "outputs": [
    {
     "name": "stdout",
     "output_type": "stream",
     "text": [
      "      age     sex     bmi  children smoker      charges  region_northeast  \\\n",
      "0      19  female  27.900         0    yes  16884.92400             False   \n",
      "1      18    male  33.770         1     no   1725.55230             False   \n",
      "2      28    male  33.000         3     no   4449.46200             False   \n",
      "3      33    male  22.705         0     no  21984.47061             False   \n",
      "4      32    male  28.880         0     no   3866.85520             False   \n",
      "...   ...     ...     ...       ...    ...          ...               ...   \n",
      "1333   50    male  30.970         3     no  10600.54830             False   \n",
      "1334   18  female  31.920         0     no   2205.98080              True   \n",
      "1335   18  female  36.850         0     no   1629.83350             False   \n",
      "1336   21  female  25.800         0     no   2007.94500             False   \n",
      "1337   61  female  29.070         0    yes  29141.36030             False   \n",
      "\n",
      "      region_northwest  region_southeast  region_southwest  \n",
      "0                False             False              True  \n",
      "1                False              True             False  \n",
      "2                False              True             False  \n",
      "3                 True             False             False  \n",
      "4                 True             False             False  \n",
      "...                ...               ...               ...  \n",
      "1333              True             False             False  \n",
      "1334             False             False             False  \n",
      "1335             False              True             False  \n",
      "1336             False             False              True  \n",
      "1337              True             False             False  \n",
      "\n",
      "[1338 rows x 10 columns]\n"
     ]
    }
   ],
   "source": [
    "med_cost_df2 = pd.get_dummies(med_cost_df, columns=['region'], dtype=bool)\n",
    "print(med_cost_df2)"
   ]
  },
  {
   "cell_type": "code",
   "execution_count": 11,
   "id": "cd1dc3bf-3952-4e02-965c-1163ab3a75a9",
   "metadata": {},
   "outputs": [
    {
     "name": "stdout",
     "output_type": "stream",
     "text": [
      "      age     sex     bmi  children smoker      charges  region_northeast  \\\n",
      "0      19  female  27.900         0    yes  16884.92400                 0   \n",
      "1      18    male  33.770         1     no   1725.55230                 0   \n",
      "2      28    male  33.000         3     no   4449.46200                 0   \n",
      "3      33    male  22.705         0     no  21984.47061                 0   \n",
      "4      32    male  28.880         0     no   3866.85520                 0   \n",
      "...   ...     ...     ...       ...    ...          ...               ...   \n",
      "1333   50    male  30.970         3     no  10600.54830                 0   \n",
      "1334   18  female  31.920         0     no   2205.98080                 1   \n",
      "1335   18  female  36.850         0     no   1629.83350                 0   \n",
      "1336   21  female  25.800         0     no   2007.94500                 0   \n",
      "1337   61  female  29.070         0    yes  29141.36030                 0   \n",
      "\n",
      "      region_northwest  region_southeast  region_southwest  \n",
      "0                    0                 0                 1  \n",
      "1                    0                 1                 0  \n",
      "2                    0                 1                 0  \n",
      "3                    1                 0                 0  \n",
      "4                    1                 0                 0  \n",
      "...                ...               ...               ...  \n",
      "1333                 1                 0                 0  \n",
      "1334                 0                 0                 0  \n",
      "1335                 0                 1                 0  \n",
      "1336                 0                 0                 1  \n",
      "1337                 1                 0                 0  \n",
      "\n",
      "[1338 rows x 10 columns]\n"
     ]
    }
   ],
   "source": [
    "# instead of true and false, 1 and 0 integers are more useful as they work better with standard models allowing\n",
    "# for calculation with parameters and weights, yielding 0*value=0 and 1*value=value.\n",
    "med_cost_df3 = pd.get_dummies(med_cost_df, columns=['region'], dtype=int)\n",
    "print(med_cost_df3)"
   ]
  },
  {
   "cell_type": "code",
   "execution_count": 12,
   "id": "32d23fcf-f800-47f6-be93-009c2689de50",
   "metadata": {},
   "outputs": [
    {
     "name": "stdout",
     "output_type": "stream",
     "text": [
      "Intercept           1.478242e+15\n",
      "region_northeast   -1.478242e+15\n",
      "region_northwest   -1.478242e+15\n",
      "region_southeast   -1.478242e+15\n",
      "region_southwest   -1.478242e+15\n",
      "dtype: float64\n",
      "                            OLS Regression Results                            \n",
      "==============================================================================\n",
      "Dep. Variable:                charges   R-squared:                       0.007\n",
      "Model:                            OLS   Adj. R-squared:                  0.004\n",
      "Method:                 Least Squares   F-statistic:                     2.217\n",
      "Date:                Sun, 21 Sep 2025   Prob (F-statistic):             0.0651\n",
      "Time:                        16:08:16   Log-Likelihood:                -14473.\n",
      "No. Observations:                1338   AIC:                         2.896e+04\n",
      "Df Residuals:                    1333   BIC:                         2.898e+04\n",
      "Df Model:                           4                                         \n",
      "Covariance Type:            nonrobust                                         \n",
      "====================================================================================\n",
      "                       coef    std err          t      P>|t|      [0.025      0.975]\n",
      "------------------------------------------------------------------------------------\n",
      "Intercept         1.478e+15   7.57e+16      0.020      0.984   -1.47e+17     1.5e+17\n",
      "region_northeast -1.478e+15   7.57e+16     -0.020      0.984    -1.5e+17    1.47e+17\n",
      "region_northwest -1.478e+15   7.57e+16     -0.020      0.984    -1.5e+17    1.47e+17\n",
      "region_southeast -1.478e+15   7.57e+16     -0.020      0.984    -1.5e+17    1.47e+17\n",
      "region_southwest -1.478e+15   7.57e+16     -0.020      0.984    -1.5e+17    1.47e+17\n",
      "==============================================================================\n",
      "Omnibus:                      328.230   Durbin-Watson:                   2.001\n",
      "Prob(Omnibus):                  0.000   Jarque-Bera (JB):              625.889\n",
      "Skew:                           1.486   Prob(JB):                    1.23e-136\n",
      "Kurtosis:                       4.546   Cond. No.                     5.73e+14\n",
      "==============================================================================\n",
      "\n",
      "Notes:\n",
      "[1] Standard Errors assume that the covariance matrix of the errors is correctly specified.\n",
      "[2] The smallest eigenvalue is 5.1e-27. This might indicate that there are\n",
      "strong multicollinearity problems or that the design matrix is singular.\n"
     ]
    }
   ],
   "source": [
    "# Now that indicators are integers we can apply statistics against indicator features\n",
    "\n",
    "regression_model = sm.ols(formula='charges ~ region_northeast + region_northwest + region_southeast + region_southwest', data=med_cost_df3).fit()\n",
    "print(regression_model.params)\n",
    "print(regression_model.summary())"
   ]
  },
  {
   "cell_type": "code",
   "execution_count": 13,
   "id": "026175e3-1f65-4910-a96a-1a26aa3097f9",
   "metadata": {},
   "outputs": [
    {
     "name": "stdout",
     "output_type": "stream",
     "text": [
      "Intercept           25395.919994\n",
      "region_northeast     4277.616478\n",
      "region_northwest     4796.083188\n",
      "region_southeast     9449.076829\n",
      "region_southwest     6873.143499\n",
      "dtype: float64\n",
      "                            OLS Regression Results                            \n",
      "==============================================================================\n",
      "Dep. Variable:                charges   R-squared:                       0.036\n",
      "Model:                            OLS   Adj. R-squared:                  0.025\n",
      "Method:                 Least Squares   F-statistic:                     3.316\n",
      "Date:                Sun, 21 Sep 2025   Prob (F-statistic):             0.0205\n",
      "Time:                        16:08:21   Log-Likelihood:                -2946.2\n",
      "No. Observations:                 274   AIC:                             5900.\n",
      "Df Residuals:                     270   BIC:                             5915.\n",
      "Df Model:                           3                                         \n",
      "Covariance Type:            nonrobust                                         \n",
      "====================================================================================\n",
      "                       coef    std err          t      P>|t|      [0.025      0.975]\n",
      "------------------------------------------------------------------------------------\n",
      "Intercept          2.54e+04    560.202     45.334      0.000    2.43e+04    2.65e+04\n",
      "region_northeast  4277.6165   1215.368      3.520      0.001    1884.813    6670.420\n",
      "region_northwest  4796.0832   1287.490      3.725      0.000    2261.286    7330.880\n",
      "region_southeast  9449.0768   1081.812      8.734      0.000    7319.217    1.16e+04\n",
      "region_southwest  6873.1435   1287.490      5.338      0.000    4338.347    9407.940\n",
      "==============================================================================\n",
      "Omnibus:                       41.132   Durbin-Watson:                   1.755\n",
      "Prob(Omnibus):                  0.000   Jarque-Bera (JB):               11.294\n",
      "Skew:                           0.141   Prob(JB):                      0.00353\n",
      "Kurtosis:                       2.046   Cond. No.                     7.40e+15\n",
      "==============================================================================\n",
      "\n",
      "Notes:\n",
      "[1] Standard Errors assume that the covariance matrix of the errors is correctly specified.\n",
      "[2] The smallest eigenvalue is 6.31e-30. This might indicate that there are\n",
      "strong multicollinearity problems or that the design matrix is singular.\n"
     ]
    }
   ],
   "source": [
    "med_cost_df4 = med_cost_df3.loc[med_cost_df3['smoker'] == 'yes']\n",
    "\n",
    "regression_model2 = sm.ols(formula='charges ~ region_northeast + region_northwest + region_southeast + region_southwest', data=med_cost_df4).fit()\n",
    "print(regression_model2.params)\n",
    "print(regression_model2.summary())"
   ]
  },
  {
   "cell_type": "code",
   "execution_count": 15,
   "id": "33936576-33e6-4864-854d-9b80774c2b6c",
   "metadata": {},
   "outputs": [
    {
     "name": "stdout",
     "output_type": "stream",
     "text": [
      "Intercept           6754.699242\n",
      "region_northeast    2410.832430\n",
      "region_northwest    1801.764473\n",
      "region_southeast    1277.517067\n",
      "region_southwest    1264.585271\n",
      "dtype: float64\n",
      "                            OLS Regression Results                            \n",
      "==============================================================================\n",
      "Dep. Variable:                charges   R-squared:                       0.006\n",
      "Model:                            OLS   Adj. R-squared:                  0.003\n",
      "Method:                 Least Squares   F-statistic:                     2.155\n",
      "Date:                Sun, 21 Sep 2025   Prob (F-statistic):             0.0917\n",
      "Time:                        16:16:23   Log-Likelihood:                -10761.\n",
      "No. Observations:                1064   AIC:                         2.153e+04\n",
      "Df Residuals:                    1060   BIC:                         2.155e+04\n",
      "Df Model:                           3                                         \n",
      "Covariance Type:            nonrobust                                         \n",
      "====================================================================================\n",
      "                       coef    std err          t      P>|t|      [0.025      0.975]\n",
      "------------------------------------------------------------------------------------\n",
      "Intercept         6754.6992    146.797     46.014      0.000    6466.654    7042.744\n",
      "region_northeast  2410.8324    324.267      7.435      0.000    1774.554    3047.111\n",
      "region_northwest  1801.7645    319.403      5.641      0.000    1175.031    2428.498\n",
      "region_southeast  1277.5171    316.622      4.035      0.000     656.240    1898.795\n",
      "region_southwest  1264.5853    319.403      3.959      0.000     637.852    1891.319\n",
      "==============================================================================\n",
      "Omnibus:                      317.847   Durbin-Watson:                   2.082\n",
      "Prob(Omnibus):                  0.000   Jarque-Bera (JB):              864.291\n",
      "Skew:                           1.538   Prob(JB):                    2.10e-188\n",
      "Kurtosis:                       6.167   Cond. No.                     1.77e+15\n",
      "==============================================================================\n",
      "\n",
      "Notes:\n",
      "[1] Standard Errors assume that the covariance matrix of the errors is correctly specified.\n",
      "[2] The smallest eigenvalue is 4.25e-28. This might indicate that there are\n",
      "strong multicollinearity problems or that the design matrix is singular.\n"
     ]
    }
   ],
   "source": [
    "med_cost_df5 = med_cost_df3.loc[med_cost_df3['smoker'] == 'no']\n",
    "\n",
    "regression_model3 = sm.ols(formula='charges ~ region_northeast + region_northwest + region_southeast + region_southwest', data=med_cost_df5).fit()\n",
    "print(regression_model3.params)\n",
    "print(regression_model3.summary())"
   ]
  },
  {
   "cell_type": "code",
   "execution_count": 16,
   "id": "3c07e2f2-130f-4a33-b76e-b16dbde238ef",
   "metadata": {},
   "outputs": [
    {
     "name": "stdout",
     "output_type": "stream",
     "text": [
      "      age     sex     bmi  children     region      charges  smoker_no  \\\n",
      "0      19  female  27.900         0  southwest  16884.92400          0   \n",
      "1      18    male  33.770         1  southeast   1725.55230          1   \n",
      "2      28    male  33.000         3  southeast   4449.46200          1   \n",
      "3      33    male  22.705         0  northwest  21984.47061          1   \n",
      "4      32    male  28.880         0  northwest   3866.85520          1   \n",
      "...   ...     ...     ...       ...        ...          ...        ...   \n",
      "1333   50    male  30.970         3  northwest  10600.54830          1   \n",
      "1334   18  female  31.920         0  northeast   2205.98080          1   \n",
      "1335   18  female  36.850         0  southeast   1629.83350          1   \n",
      "1336   21  female  25.800         0  southwest   2007.94500          1   \n",
      "1337   61  female  29.070         0  northwest  29141.36030          0   \n",
      "\n",
      "      smoker_yes  \n",
      "0              1  \n",
      "1              0  \n",
      "2              0  \n",
      "3              0  \n",
      "4              0  \n",
      "...          ...  \n",
      "1333           0  \n",
      "1334           0  \n",
      "1335           0  \n",
      "1336           0  \n",
      "1337           1  \n",
      "\n",
      "[1338 rows x 8 columns]\n"
     ]
    }
   ],
   "source": [
    "med_cost_df6 = pd.get_dummies(med_cost_df, columns=['smoker'], dtype=int)\n",
    "print(med_cost_df6)"
   ]
  },
  {
   "cell_type": "code",
   "execution_count": 18,
   "id": "ad6cebaa-dcb0-4f75-89df-1880b2f4ee93",
   "metadata": {},
   "outputs": [
    {
     "name": "stdout",
     "output_type": "stream",
     "text": [
      "Intercept      8434.268298\n",
      "smoker_yes    23615.963534\n",
      "dtype: float64\n",
      "                            OLS Regression Results                            \n",
      "==============================================================================\n",
      "Dep. Variable:                charges   R-squared:                       0.620\n",
      "Model:                            OLS   Adj. R-squared:                  0.619\n",
      "Method:                 Least Squares   F-statistic:                     2178.\n",
      "Date:                Sun, 21 Sep 2025   Prob (F-statistic):          8.27e-283\n",
      "Time:                        16:23:19   Log-Likelihood:                -13831.\n",
      "No. Observations:                1338   AIC:                         2.767e+04\n",
      "Df Residuals:                    1336   BIC:                         2.768e+04\n",
      "Df Model:                           1                                         \n",
      "Covariance Type:            nonrobust                                         \n",
      "==============================================================================\n",
      "                 coef    std err          t      P>|t|      [0.025      0.975]\n",
      "------------------------------------------------------------------------------\n",
      "Intercept   8434.2683    229.014     36.829      0.000    7985.002    8883.535\n",
      "smoker_yes  2.362e+04    506.075     46.665      0.000    2.26e+04    2.46e+04\n",
      "==============================================================================\n",
      "Omnibus:                      135.996   Durbin-Watson:                   2.025\n",
      "Prob(Omnibus):                  0.000   Jarque-Bera (JB):              212.201\n",
      "Skew:                           0.727   Prob(JB):                     8.34e-47\n",
      "Kurtosis:                       4.300   Cond. No.                         2.60\n",
      "==============================================================================\n",
      "\n",
      "Notes:\n",
      "[1] Standard Errors assume that the covariance matrix of the errors is correctly specified.\n"
     ]
    }
   ],
   "source": [
    "regression_model4 = sm.ols(formula='charges ~ smoker_yes', data=med_cost_df6).fit()\n",
    "print(regression_model4.params)\n",
    "print(regression_model4.summary())"
   ]
  },
  {
   "cell_type": "code",
   "execution_count": null,
   "id": "0364af39-db5b-4a0f-9cb8-4630587d14b0",
   "metadata": {},
   "outputs": [],
   "source": []
  }
 ],
 "metadata": {
  "kernelspec": {
   "display_name": "Python 3 (ipykernel)",
   "language": "python",
   "name": "python3"
  },
  "language_info": {
   "codemirror_mode": {
    "name": "ipython",
    "version": 3
   },
   "file_extension": ".py",
   "mimetype": "text/x-python",
   "name": "python",
   "nbconvert_exporter": "python",
   "pygments_lexer": "ipython3",
   "version": "3.13.5"
  }
 },
 "nbformat": 4,
 "nbformat_minor": 5
}
