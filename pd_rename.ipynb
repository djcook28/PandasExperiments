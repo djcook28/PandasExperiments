{
 "cells": [
  {
   "cell_type": "code",
   "execution_count": 7,
   "id": "4f64dc34-a7ae-4008-8d81-a58d4da39f49",
   "metadata": {},
   "outputs": [
    {
     "name": "stdout",
     "output_type": "stream",
     "text": [
      "             Mercedes  Ford  Tata  Renault Rating Target\n",
      "Sales Place                                             \n",
      "One                 2     3     9       12   high      Y\n",
      "Two                 4     0     3        1   med.      Y\n",
      "Three               0     0     4        0    low      Y\n",
      "Four                4     1     1        0    low      N\n",
      "Five                0     6     0        3   med.      N\n",
      "Six                 3    12     0        1   high      N\n"
     ]
    }
   ],
   "source": [
    "# Create three Pandas DataFrames\n",
    "import pandas as pd\n",
    "\n",
    "# This code will become the Carsales DataFrame extended with two more Sales places plus the \"Rating\" and \"Target\" columns.\n",
    "Cardata = { \"Mercedes\": [2, 4, 0, 4, 0, 3], \"Ford\": [3, 0, 0, 1, 6, 12], \"Tata\":[9, 3, 4, 1, 0, 0], \"Renault\":[12, 1, 0, 0, 3, 1], \"Rating\":[\"high\", \"med.\", \"low\", \"low\", \"med.\", \"high\"], \"Target\":[\"Y\", \"Y\", \"Y\", \"N\", \"N\", \"N\"]}\n",
    "Carsales = pd.DataFrame(Cardata)\n",
    "Carsales.rename(index={0: \"One\", 1: \"Two\", 2: \"Three\", 3: \"Four\", 4: \"Five\", 5: \"Six\"}, inplace=True)\n",
    "Carsales.index.rename(\"Sales Place\", inplace=True)\n",
    "print(Carsales)"
   ]
  },
  {
   "cell_type": "code",
   "execution_count": 8,
   "id": "97a88ef5-a7e7-4d2b-a722-c025ced4ba14",
   "metadata": {},
   "outputs": [
    {
     "name": "stdout",
     "output_type": "stream",
     "text": [
      "Index(['Mercedes', 'Ford', 'Tata', 'Renault', 'Rating', 'Target'], dtype='object')\n",
      "Index(['One', 'Two', 'Three', 'Four', 'Five', 'Six'], dtype='object', name='Sales Place')\n"
     ]
    }
   ],
   "source": [
    "print(Carsales.columns)\n",
    "print(Carsales.index)"
   ]
  },
  {
   "cell_type": "code",
   "execution_count": 14,
   "id": "1ddfe7a9-0295-4989-8a0e-8bb9c590eee2",
   "metadata": {},
   "outputs": [
    {
     "name": "stdout",
     "output_type": "stream",
     "text": [
      "             Mercedes  Dodge  Tatra  Renault Rating Target\n",
      "Sales Place                                               \n",
      "One                 2      3      9       12   high      Y\n",
      "Two                 4      0      3        1   med.      Y\n",
      "Three               0      0      4        0    low      Y\n",
      "Four                4      1      1        0    low      N\n",
      "Five                0      6      0        3   med.      N\n",
      "Six                 3     12      0        1   high      N\n"
     ]
    }
   ],
   "source": [
    "Carsales.rename(columns={'Tata': 'Tatra', 'Ford': 'Dodge'}, inplace=True)\n",
    "print(Carsales)"
   ]
  },
  {
   "cell_type": "code",
   "execution_count": 11,
   "id": "6830f2f6-5988-4a98-b280-6fc929a8c66a",
   "metadata": {},
   "outputs": [
    {
     "name": "stdout",
     "output_type": "stream",
     "text": [
      "             Mercedes  Ford  Tatrra  Renault Rating Target\n",
      "Sales Place                                               \n",
      "One                 2     3       9       12   high      Y\n",
      "Two                 4     0       3        1   med.      Y\n",
      "Three               0     0       4        0    low      Y\n",
      "Four                4     1       1        0    low      N\n",
      "Five                0     6       0        3   med.      N\n",
      "Six                 3    12       0        1   high      N\n"
     ]
    }
   ],
   "source": [
    "Carsales.columns = Carsales.columns.str.replace('Tatra', 'Tatrra')\n",
    "print(Carsales)"
   ]
  },
  {
   "cell_type": "code",
   "execution_count": 13,
   "id": "8478eb8d-bb52-40e2-94c9-8e05375c1657",
   "metadata": {},
   "outputs": [
    {
     "name": "stdout",
     "output_type": "stream",
     "text": [
      "             Mercedes  Ford  Tata  Renault Rating Target\n",
      "Sales Place                                             \n",
      "One                 2     3     9       12   high      Y\n",
      "Two                 4     0     3        1   med.      Y\n",
      "Three               0     0     4        0    low      Y\n",
      "Four                4     1     1        0    low      N\n",
      "Five                0     6     0        3   med.      N\n",
      "Six                 3    12     0        1   high      N\n"
     ]
    }
   ],
   "source": [
    "# All columns must be specified or error is thrown\n",
    "Carsales.columns = ['Mercedes', 'Ford', 'Tata', 'Renault', 'Rating', 'Target']\n",
    "print(Carsales)"
   ]
  },
  {
   "cell_type": "code",
   "execution_count": 20,
   "id": "1c408674-7211-46ef-80e6-eae2db84d5d2",
   "metadata": {},
   "outputs": [
    {
     "name": "stdout",
     "output_type": "stream",
     "text": [
      "             Mercedes  Dodge  Tatra  Renault Rating Target\n",
      "Sales Place                                               \n",
      "One                 2      3      9       12   high      Y\n",
      "Two                 4      0      3        1   med.      Y\n",
      "Three               0      0      4        0    low      Y\n",
      "Four                4      1      1        0    low      N\n",
      "Fiver               0      6      0        3   med.      N\n",
      "Fiver               3     12      0        1   high      N\n"
     ]
    }
   ],
   "source": [
    "# Edit Indices\n",
    "Carsales.rename(index={'Five': 'Fiver', 'Six': 'Fiver'}, inplace=True)\n",
    "print(Carsales)"
   ]
  },
  {
   "cell_type": "code",
   "execution_count": 21,
   "id": "5c8c0c49-a03e-409f-99d9-7687f1a4bcbd",
   "metadata": {},
   "outputs": [
    {
     "name": "stdout",
     "output_type": "stream",
     "text": [
      "             Mercedes  Dodge  Tatra  Renault Rating Target\n",
      "Sales Place                                               \n",
      "One                 2      3      9       12   high      Y\n",
      "Two                 4      0      3        1   med.      Y\n",
      "Three               0      0      4        0    low      Y\n",
      "Four                4      1      1        0    low      N\n",
      "Five                0      6      0        3   med.      N\n",
      "Five                3     12      0        1   high      N\n"
     ]
    }
   ],
   "source": [
    "\n",
    "Carsales.index = Carsales.index.str.replace('Fiver', 'Five')\n",
    "print(Carsales)"
   ]
  },
  {
   "cell_type": "code",
   "execution_count": 23,
   "id": "923f9275-5721-41a2-a229-d178b9bb83d1",
   "metadata": {},
   "outputs": [
    {
     "name": "stdout",
     "output_type": "stream",
     "text": [
      "   Mercedes  Dodge  Tatra  Renault Rating Target\n",
      "0         2      3      9       12   high      Y\n",
      "1         4      0      3        1   med.      Y\n",
      "2         0      0      4        0    low      Y\n",
      "3         4      1      1        0    low      N\n",
      "4         0      6      0        3   med.      N\n",
      "5         3     12      0        1   high      N\n"
     ]
    }
   ],
   "source": [
    "Carsales.index = [0, 1, 2, 3, 4, 5]\n",
    "print(Carsales)"
   ]
  },
  {
   "cell_type": "code",
   "execution_count": null,
   "id": "2308794a-fec1-4e56-accc-fa3782c3df3c",
   "metadata": {},
   "outputs": [],
   "source": []
  }
 ],
 "metadata": {
  "kernelspec": {
   "display_name": "Python 3 (ipykernel)",
   "language": "python",
   "name": "python3"
  },
  "language_info": {
   "codemirror_mode": {
    "name": "ipython",
    "version": 3
   },
   "file_extension": ".py",
   "mimetype": "text/x-python",
   "name": "python",
   "nbconvert_exporter": "python",
   "pygments_lexer": "ipython3",
   "version": "3.13.5"
  }
 },
 "nbformat": 4,
 "nbformat_minor": 5
}
