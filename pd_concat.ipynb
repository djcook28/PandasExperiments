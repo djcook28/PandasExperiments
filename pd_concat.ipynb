{
 "cells": [
  {
   "cell_type": "code",
   "execution_count": 10,
   "id": "4a6e3c8b-3f1e-437b-8914-e145dc26feb5",
   "metadata": {},
   "outputs": [
    {
     "name": "stdout",
     "output_type": "stream",
     "text": [
      "            Sales_place_name  Mercedes  Ford  Tata  Renault\n",
      "Sales place                                                \n",
      "One                 Europe 1         2     3     9       12\n",
      "Two              Australia 1         4     0     3        1\n",
      "      Sales_place_name  Mercedes  Ford  Tata  Renault\n",
      "Seven  South America 1         3     2     1        1\n",
      "Eight           Asia 1         4     1     1        0\n",
      "       Volvo  Tesla\n",
      "One        3      2\n",
      "Nine       4      8\n",
      "Three      0      0\n",
      "Six        0      1\n",
      "Seven      1      1\n",
      "    Sales_place_name  Mercedes  Ford  Tata  Renault\n",
      "One         Europe 1         2     3     9       12\n",
      "Two      Australia 1         4     0     3        1\n"
     ]
    }
   ],
   "source": [
    "# Import Pandas library\n",
    "import pandas as pd\n",
    "\n",
    "# Create four Pandas DataFrames\n",
    "\n",
    "# This is the basic Carsales DataFrame\n",
    "Cardata = { \"Mercedes\": [2, 4, 0, 4, 0, 3], \"Ford\": [3, 0, 0, 1, 6, 12], \"Tata\":[9, 3, 4, 1, 0, 0], \"Renault\":[12, 1, 0, 0, 3, 1]}\n",
    "Carsales = pd.DataFrame(Cardata)\n",
    "Carsales.index.rename(\"Sales place\", inplace=True)\n",
    "Carsales.rename(index={0: \"One\", 1: \"Two\", 2: \"Three\", 3: \"Four\", 4: \"Five\", 5: \"Six\"}, inplace=True)\n",
    "Carsales.insert(0, \"Sales_place_name\", [\"Europe 1\", \"Australia 1\", \"USA 1\", \"Asia 1\", \"Africa 1\", \"South America 1\"], allow_duplicates=False)\n",
    "print(Carsales.head(2))\n",
    "\n",
    "# This DataFrame may add two Salesplaces to our DataFrame, vertically.\n",
    "Carsales2 = pd.DataFrame({\"Sales_place_name\": [\"South America 1\", \"Asia 1\"], \"Mercedes\": [3, 4], \"Ford\": [2, 1], \"Tata\": [1, 1], \"Renault\": [1, 0]})\n",
    "Carsales2.rename(index={0: \"Seven\", 1: \"Eight\"}, inplace=True)\n",
    "print(Carsales2)\n",
    "\n",
    "# This DataFrame contains two Carbrands columns which can be added to the Carsales DataFrame, horizontally.\n",
    "Carsales3 = pd.DataFrame({\"Volvo\": [3, 4, 0, 0, 1], \"Tesla\": [2, 8, 0, 1, 1]})\n",
    "Carsales3.rename(index={0: \"One\", 1: \"Nine\", 2: \"Three\", 3: \"Six\", 4: \"Seven\", 5: \"Eight\"}, inplace=True)\n",
    "print(Carsales3)\n",
    "\n",
    "# This DataFrame may be used display the .concat functions handling of duplicates.\n",
    "Carsales4 = pd.DataFrame({\"Sales_place_name\": [\"Europe 1\", \"Australia 1\"], \"Mercedes\": [2, 4], \"Ford\": [3, 0], \"Tata\": [9, 3], \"Renault\": [12, 1]})\n",
    "Carsales4.rename(index={0: \"One\", 1: \"Two\"}, inplace=True)\n",
    "print(Carsales4)"
   ]
  },
  {
   "cell_type": "code",
   "execution_count": 8,
   "id": "5c3500fa-0c3a-441d-82fe-20bef7d4b80a",
   "metadata": {
    "ExecuteTime": {
     "end_time": "2025-09-15T20:03:08.473584Z",
     "start_time": "2025-09-15T20:03:08.028635Z"
    }
   },
   "outputs": [
    {
     "name": "stdout",
     "output_type": "stream",
     "text": [
      "      Sales_place_name  Mercedes  Ford  Tata  Renault\n",
      "One           Europe 1         2     3     9       12\n",
      "Two        Australia 1         4     0     3        1\n",
      "Three            USA 1         0     0     4        0\n",
      "Four            Asia 1         4     1     1        0\n",
      "Five          Africa 1         0     6     0        3\n",
      "Six    South America 1         3    12     0        1\n",
      "Seven  South America 1         3     2     1        1\n",
      "Eight           Asia 1         4     1     1        0\n"
     ]
    }
   ],
   "source": [
    "# defaults to axis = 0 which is a row based concat\n",
    "Carsales5 = pd.concat([Carsales, Carsales2])\n",
    "print(Carsales5)"
   ]
  },
  {
   "cell_type": "code",
   "execution_count": 12,
   "id": "dd42b6680afd9c4c",
   "metadata": {},
   "outputs": [
    {
     "name": "stdout",
     "output_type": "stream",
     "text": [
      "      Sales_place_name  Mercedes  Ford  Tata  Renault  Volvo  Tesla\n",
      "One           Europe 1       2.0   3.0   9.0     12.0    3.0    2.0\n",
      "Two        Australia 1       4.0   0.0   3.0      1.0    NaN    NaN\n",
      "Three            USA 1       0.0   0.0   4.0      0.0    0.0    0.0\n",
      "Four            Asia 1       4.0   1.0   1.0      0.0    NaN    NaN\n",
      "Five          Africa 1       0.0   6.0   0.0      3.0    NaN    NaN\n",
      "Six    South America 1       3.0  12.0   0.0      1.0    0.0    1.0\n",
      "Seven  South America 1       3.0   2.0   1.0      1.0    1.0    1.0\n",
      "Eight           Asia 1       4.0   1.0   1.0      0.0    NaN    NaN\n",
      "Nine               NaN       NaN   NaN   NaN      NaN    4.0    8.0\n"
     ]
    }
   ],
   "source": [
    "# changes axis = 1 results in a column concat aka a join\n",
    "# Default is an outerjoin with NaN values populating any missing datapoints\n",
    "Carsales6 = pd.concat([Carsales5, Carsales3], axis=1)\n",
    "print(Carsales6)"
   ]
  },
  {
   "cell_type": "code",
   "execution_count": 17,
   "id": "9c35350f-1304-4ba6-a0a3-75fa1be44543",
   "metadata": {},
   "outputs": [
    {
     "name": "stdout",
     "output_type": "stream",
     "text": [
      "      Sales_place_name  Mercedes  Ford  Tata  Renault  Volvo  Tesla\n",
      "One           Europe 1         2     3     9       12      3      2\n",
      "Three            USA 1         0     0     4        0      0      0\n",
      "Six    South America 1         3    12     0        1      0      1\n",
      "Seven  South America 1         3     2     1        1      1      1\n"
     ]
    }
   ],
   "source": [
    "# The specific type of join can be specified as a parameter\n",
    "Carsales7 = pd.concat([Carsales5, Carsales3], axis=1, join='inner')\n",
    "print(Carsales7)"
   ]
  },
  {
   "cell_type": "code",
   "execution_count": 19,
   "id": "eb3f6b1d-fe93-4195-b808-c1e693b22a45",
   "metadata": {},
   "outputs": [
    {
     "name": "stdout",
     "output_type": "stream",
     "text": [
      "      Sales_place_name  Mercedes  Ford  Tata  Renault\n",
      "One           Europe 1         2     3     9       12\n",
      "Two        Australia 1         4     0     3        1\n",
      "Three            USA 1         0     0     4        0\n",
      "Four            Asia 1         4     1     1        0\n",
      "Five          Africa 1         0     6     0        3\n",
      "Six    South America 1         3    12     0        1\n",
      "One           Europe 1         2     3     9       12\n",
      "Two        Australia 1         4     0     3        1\n",
      "            Sales_place_name  Mercedes  Ford  Tata  Renault Sales_place_name  \\\n",
      "Sales place                                                                    \n",
      "One                 Europe 1         2     3     9       12         Europe 1   \n",
      "Two              Australia 1         4     0     3        1      Australia 1   \n",
      "Three                  USA 1         0     0     4        0            USA 1   \n",
      "Four                  Asia 1         4     1     1        0           Asia 1   \n",
      "Five                Africa 1         0     6     0        3         Africa 1   \n",
      "Six          South America 1         3    12     0        1  South America 1   \n",
      "\n",
      "             Mercedes  Ford  Tata  Renault  \n",
      "Sales place                                 \n",
      "One                 2     3     9       12  \n",
      "Two                 4     0     3        1  \n",
      "Three               0     0     4        0  \n",
      "Four                4     1     1        0  \n",
      "Five                0     6     0        3  \n",
      "Six                 3    12     0        1  \n"
     ]
    }
   ],
   "source": [
    "# concatenate does NOT handle row or column duplicates\n",
    "print(pd.concat([Carsales, Carsales4]))\n",
    "print(pd.concat([Carsales, Carsales], axis=1))"
   ]
  },
  {
   "cell_type": "code",
   "execution_count": 20,
   "id": "cbc04075-6725-4b5d-8792-a4d26b2de0d1",
   "metadata": {},
   "outputs": [
    {
     "name": "stdout",
     "output_type": "stream",
     "text": [
      "                      Sales_place_name  Mercedes  Ford  Tata  Renault\n",
      "DataFrame Sales Place                                                \n",
      "Carsales  One                 Europe 1         2     3     9       12\n",
      "          Two              Australia 1         4     0     3        1\n",
      "          Three                  USA 1         0     0     4        0\n",
      "          Four                  Asia 1         4     1     1        0\n",
      "          Five                Africa 1         0     6     0        3\n",
      "          Six          South America 1         3    12     0        1\n",
      "Carsales4 One                 Europe 1         2     3     9       12\n",
      "          Two              Australia 1         4     0     3        1\n"
     ]
    }
   ],
   "source": [
    "# below is a two level index.  Both indice levels can be used for selection.\n",
    "Carsales9 = pd.concat([Carsales, Carsales4], keys=[\"Carsales\", \"Carsales4\"], names=[\"DataFrame\", \"Sales Place\"])\n",
    "print(Carsales9)"
   ]
  },
  {
   "cell_type": "code",
   "execution_count": null,
   "id": "d99dfa3c-e340-4795-a7b5-6a2097744a4b",
   "metadata": {},
   "outputs": [],
   "source": []
  }
 ],
 "metadata": {
  "kernelspec": {
   "display_name": "Python 3 (ipykernel)",
   "language": "python",
   "name": "python3"
  },
  "language_info": {
   "codemirror_mode": {
    "name": "ipython",
    "version": 3
   },
   "file_extension": ".py",
   "mimetype": "text/x-python",
   "name": "python",
   "nbconvert_exporter": "python",
   "pygments_lexer": "ipython3",
   "version": "3.13.5"
  }
 },
 "nbformat": 4,
 "nbformat_minor": 5
}
