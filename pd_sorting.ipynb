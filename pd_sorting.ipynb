{
 "cells": [
  {
   "cell_type": "code",
   "execution_count": 16,
   "id": "76798dfa-b1eb-41ca-b613-961b8be2a45f",
   "metadata": {},
   "outputs": [
    {
     "name": "stdout",
     "output_type": "stream",
     "text": [
      "             Mercedes  Ford  Tata  Renault Rating Target\n",
      "Sales Place                                             \n",
      "One                 2     3     9       12   high      Y\n",
      "Two                 4     0     3        1   med.      Y\n",
      "Three               0     0     4        0    low      Y\n",
      "Four                4     1     1        0    low      N\n",
      "Five                0     6     0        3   med.      N\n",
      "Six                 3    12     0        1   high      N\n"
     ]
    }
   ],
   "source": [
    "import pandas as pd\n",
    "\n",
    "# This code will become the Carsales DataFrame extended with two more Sales places plus the \"Rating\" and \"Target\" columns.\n",
    "Cardata = { \"Mercedes\": [2, 4, 0, 4, 0, 3], \"Ford\": [3, 0, 0, 1, 6, 12], \"Tata\":[9, 3, 4, 1, 0, 0], \"Renault\":[12, 1, 0, 0, 3, 1], \"Rating\":[\"high\", \"med.\", \"low\", \"low\", \"med.\", \"high\"], \"Target\":[\"Y\", \"Y\", \"Y\", \"N\", \"N\", \"N\"]}\n",
    "Carsales = pd.DataFrame(Cardata)\n",
    "Carsales.rename(index={0: \"One\", 1: \"Two\", 2: \"Three\", 3: \"Four\", 4: \"Five\", 5: \"Six\"}, inplace=True)\n",
    "Carsales.index.rename(\"Sales Place\", inplace=True)\n",
    "print(Carsales)"
   ]
  },
  {
   "cell_type": "code",
   "execution_count": 17,
   "id": "ea639493-c275-40fa-9273-ba87d67c21e3",
   "metadata": {},
   "outputs": [
    {
     "name": "stdout",
     "output_type": "stream",
     "text": [
      "             Mercedes  Ford  Tata  Renault Rating Target\n",
      "Sales Place                                             \n",
      "Two                 4     0     3        1   med.      Y\n",
      "Three               0     0     4        0    low      Y\n",
      "Four                4     1     1        0    low      N\n",
      "One                 2     3     9       12   high      Y\n",
      "Five                0     6     0        3   med.      N\n",
      "Six                 3    12     0        1   high      N\n"
     ]
    }
   ],
   "source": [
    "print(Carsales.sort_values(by=['Ford']))"
   ]
  },
  {
   "cell_type": "code",
   "execution_count": 18,
   "id": "00d6734b-7a09-4e29-be60-80dcb6aa8cc0",
   "metadata": {},
   "outputs": [
    {
     "name": "stdout",
     "output_type": "stream",
     "text": [
      "             Mercedes  Ford  Tata  Renault Rating Target\n",
      "Sales Place                                             \n",
      "Six                 3    12     0        1   high      N\n",
      "Five                0     6     0        3   med.      N\n",
      "One                 2     3     9       12   high      Y\n",
      "Four                4     1     1        0    low      N\n",
      "Two                 4     0     3        1   med.      Y\n",
      "Three               0     0     4        0    low      Y\n"
     ]
    }
   ],
   "source": [
    "print(Carsales.sort_values(by=['Ford'], ascending=False))"
   ]
  },
  {
   "cell_type": "code",
   "execution_count": 21,
   "id": "cd7e57d6-e972-4335-8e7e-a7f9eb6c485f",
   "metadata": {},
   "outputs": [
    {
     "name": "stdout",
     "output_type": "stream",
     "text": [
      "             Mercedes  Ford  Tata  Renault Rating Target\n",
      "Sales Place                                             \n",
      "Five                0     6     0        3   med.      N\n",
      "Two                 4     0     3        1   med.      Y\n",
      "Four                4     1     1        0    low      N\n",
      "Three               0     0     4        0    low      Y\n",
      "Six                 3    12     0        1   high      N\n",
      "One                 2     3     9       12   high      Y\n"
     ]
    }
   ],
   "source": [
    "# sorts in order of by= column order.  Sales places are first sorted by descending rating first and then descending Ford values within the rating\n",
    "print(Carsales.sort_values(by=['Rating', 'Ford'], ascending=False))"
   ]
  },
  {
   "cell_type": "code",
   "execution_count": 22,
   "id": "8a6518e7-a6bf-41f3-8196-56d714594856",
   "metadata": {},
   "outputs": [
    {
     "name": "stdout",
     "output_type": "stream",
     "text": [
      "             Mercedes  Ford  Tata  Renault Rating Target\n",
      "Sales Place                                             \n",
      "Five                0     6     0        3   med.      N\n",
      "Four                4     1     1        0    low      N\n",
      "One                 2     3     9       12   high      Y\n",
      "Six                 3    12     0        1   high      N\n",
      "Three               0     0     4        0    low      Y\n",
      "Two                 4     0     3        1   med.      Y\n"
     ]
    }
   ],
   "source": [
    "print(Carsales.sort_index()) # alphabetical since indices are strings"
   ]
  },
  {
   "cell_type": "code",
   "execution_count": 31,
   "id": "a658105d-968f-4a21-b927-7aafb5a03027",
   "metadata": {},
   "outputs": [
    {
     "name": "stdout",
     "output_type": "stream",
     "text": [
      "Mercedes    Two\n",
      "Ford        Six\n",
      "Tata        One\n",
      "Renault     One\n",
      "Rating      Two\n",
      "Target      One\n",
      "dtype: object\n"
     ]
    }
   ],
   "source": [
    "# idxmax finds the index of the rows with the largest value for each column\n",
    "print(Carsales.idxmax())"
   ]
  },
  {
   "cell_type": "code",
   "execution_count": 27,
   "id": "47569fbd-c040-4088-a1fd-46a18548fe4d",
   "metadata": {},
   "outputs": [
    {
     "name": "stdout",
     "output_type": "stream",
     "text": [
      "             Mercedes  Ford  Tata  Renault\n",
      "Sales Place                               \n",
      "One                 2     3     9       12\n",
      "Two                 4     0     3        1\n",
      "Three               0     0     4        0\n",
      "Four                4     1     1        0\n",
      "Five                0     6     0        3\n",
      "Six                 3    12     0        1\n",
      "Sales Place\n",
      "One       Renault\n",
      "Two      Mercedes\n",
      "Three        Tata\n",
      "Four     Mercedes\n",
      "Five         Ford\n",
      "Six          Ford\n",
      "dtype: object\n"
     ]
    }
   ],
   "source": [
    "# when axis=columns idxmax finds the columns with the largest value for every index, but can only be used on integer values so we need to drop the rating and target columns\n",
    "Carsales2 = Carsales.drop(['Rating', 'Target'], axis=1)\n",
    "print(Carsales2)\n",
    "print(Carsales2.idxmax(axis='columns'))"
   ]
  },
  {
   "cell_type": "code",
   "execution_count": 30,
   "id": "d23616cb-ae77-48c6-8833-4c847202e760",
   "metadata": {},
   "outputs": [
    {
     "name": "stdout",
     "output_type": "stream",
     "text": [
      "Mercedes    Three\n",
      "Ford          Two\n",
      "Tata         Five\n",
      "Renault     Three\n",
      "Rating        One\n",
      "Target       Four\n",
      "dtype: object\n"
     ]
    }
   ],
   "source": [
    "# idxmin finds the index of the row with the smallest value for each column\n",
    "print(Carsales.idxmin())"
   ]
  },
  {
   "cell_type": "code",
   "execution_count": 32,
   "id": "4ca23b56-7523-4c2d-a41f-8eb13e22848a",
   "metadata": {},
   "outputs": [
    {
     "name": "stdout",
     "output_type": "stream",
     "text": [
      "             Mercedes  Ford  Tata  Renault\n",
      "Sales Place                               \n",
      "One                 2     3     9       12\n",
      "Two                 4     0     3        1\n",
      "Three               0     0     4        0\n",
      "Four                4     1     1        0\n",
      "Five                0     6     0        3\n",
      "Six                 3    12     0        1\n",
      "Sales Place\n",
      "One      Mercedes\n",
      "Two          Ford\n",
      "Three    Mercedes\n",
      "Four      Renault\n",
      "Five     Mercedes\n",
      "Six          Tata\n",
      "dtype: object\n"
     ]
    }
   ],
   "source": [
    "# when axis=columns idxmin finds the columns with the smallest value for every index, but can only be used on integer values so we need to drop the rating and target columns\n",
    "print(Carsales2)\n",
    "print(Carsales2.idxmin(axis='columns'))"
   ]
  },
  {
   "cell_type": "code",
   "execution_count": 34,
   "id": "2295ce6e-f9b0-48ea-8168-d90cb199edae",
   "metadata": {},
   "outputs": [
    {
     "name": "stdout",
     "output_type": "stream",
     "text": [
      "             Mercedes  Ford  Tata  Renault Rating Target\n",
      "Sales Place                                             \n",
      "Two                 4     0     3        1   med.      Y\n",
      "Four                4     1     1        0    low      N\n",
      "Six                 3    12     0        1   high      N\n"
     ]
    }
   ],
   "source": [
    "# duplicate handling\n",
    "print(Carsales.nlargest(3, 'Mercedes', keep='all'))"
   ]
  },
  {
   "cell_type": "code",
   "execution_count": 41,
   "id": "e276cafb-f01b-428e-9555-3a3374dd8c9b",
   "metadata": {},
   "outputs": [
    {
     "name": "stdout",
     "output_type": "stream",
     "text": [
      "             Mercedes  Ford  Tata  Renault Rating Target\n",
      "Sales Place                                             \n",
      "Three               0     0     4        0    low      Y\n",
      "Four                4     1     1        0    low      N\n",
      "Two                 4     0     3        1   med.      Y\n",
      "Six                 3    12     0        1   high      N\n"
     ]
    }
   ],
   "source": [
    "# keeping all duplicates could result in more returns then desired in certain circumstances\n",
    "print(Carsales.nsmallest(3, 'Renault', keep='all'))"
   ]
  },
  {
   "cell_type": "code",
   "execution_count": 44,
   "id": "80400e6f-bde1-4ab4-a898-7336b1349f3a",
   "metadata": {},
   "outputs": [
    {
     "name": "stdout",
     "output_type": "stream",
     "text": [
      "Sales Place\n",
      "One      4.0\n",
      "Two      1.5\n",
      "Three    5.5\n",
      "Four     1.5\n",
      "Five     5.5\n",
      "Six      3.0\n",
      "Name: Mercedes, dtype: float64\n"
     ]
    }
   ],
   "source": [
    "# rank indices by single column value largest to smallest\n",
    "print(Carsales['Mercedes'].rank(ascending=False))"
   ]
  },
  {
   "cell_type": "code",
   "execution_count": 45,
   "id": "eee2cfbc-ebd6-4ef3-ba5b-110e4bce7fcb",
   "metadata": {},
   "outputs": [
    {
     "name": "stdout",
     "output_type": "stream",
     "text": [
      "             Mercedes  Ford  Tata  Renault  Rating  Target\n",
      "Sales Place                                               \n",
      "One               4.0   3.0   1.0      1.0     5.5     2.0\n",
      "Two               1.5   5.5   3.0      3.5     1.5     2.0\n",
      "Three             5.5   5.5   2.0      5.5     3.5     2.0\n",
      "Four              1.5   4.0   4.0      5.5     3.5     5.0\n",
      "Five              5.5   2.0   5.5      2.0     1.5     5.0\n",
      "Six               3.0   1.0   5.5      3.5     5.5     5.0\n"
     ]
    }
   ],
   "source": [
    "# rank indices by all column values largest to smallest\n",
    "print(Carsales.rank(ascending=False))"
   ]
  },
  {
   "cell_type": "code",
   "execution_count": 47,
   "id": "f145c4c7-f6d0-4e4a-9043-e8ea51de3d77",
   "metadata": {},
   "outputs": [
    {
     "name": "stdout",
     "output_type": "stream",
     "text": [
      "             Mercedes  Ford  Tata  Renault\n",
      "Sales Place                               \n",
      "One               4.0   3.0   2.0      1.0\n",
      "Two               1.0   4.0   2.0      3.0\n",
      "Three             3.0   3.0   1.0      3.0\n",
      "Four              1.0   2.5   2.5      4.0\n",
      "Five              3.5   1.0   3.5      2.0\n",
      "Six               2.0   1.0   4.0      3.0\n"
     ]
    }
   ],
   "source": [
    "# rank the columns per index, mixed values don't make sense in this case so the string columns were removed\n",
    "print(Carsales2.rank(axis=1, ascending=False))"
   ]
  }
 ],
 "metadata": {
  "kernelspec": {
   "display_name": "Python 3 (ipykernel)",
   "language": "python",
   "name": "python3"
  },
  "language_info": {
   "codemirror_mode": {
    "name": "ipython",
    "version": 3
   },
   "file_extension": ".py",
   "mimetype": "text/x-python",
   "name": "python",
   "nbconvert_exporter": "python",
   "pygments_lexer": "ipython3",
   "version": "3.13.5"
  }
 },
 "nbformat": 4,
 "nbformat_minor": 5
}
