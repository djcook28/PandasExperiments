{
 "cells": [
  {
   "cell_type": "code",
   "execution_count": 13,
   "id": "1b7315e8-ace8-4a65-a3cd-9100df948dde",
   "metadata": {},
   "outputs": [
    {
     "name": "stdout",
     "output_type": "stream",
     "text": [
      "  Sales place Sales_place_name  Mercedes  Ford  Tata  Renault\n",
      "0         One         Europe 1         2     3     9       12\n",
      "1         Two      Australia 1         4     0     3        1\n",
      "2       Three            USA 1         0     0     4        0\n",
      "3        Four           Asia 1         4     1     1        0\n",
      "4        Five         Africa 1         0     6     0        3\n",
      "5         Six  South America 1         3    12     0        1\n",
      "6       Seven  South America 1         3     2     1        1\n",
      "7       Eight           Asia 1         4     1     1        0\n",
      "  Sales_place_name  Car_inv\n",
      "0         Europe 1      132\n",
      "1      Australia 1       54\n",
      "2            USA 1      323\n",
      "3           Asia 1      267\n",
      "4         Africa 1      183\n",
      "5  South America 1      172\n",
      "  Sales_place_name  Car_inv\n",
      "0         Europe 1      132\n",
      "1         Europe 1      131\n",
      "2      Australia 1       54\n",
      "3            USA 1      323\n",
      "4           Asia 1      267\n",
      "5         Canada 1       45\n",
      "6         Africa 1      183\n",
      "7  South America 1      172\n",
      "8  South America 2      144\n"
     ]
    }
   ],
   "source": [
    "# Create three Pandas DataFrames\n",
    "import pandas as pd\n",
    "\n",
    "# This is the basic Carsales DataFrame extended with two more Sales places plus the index column transformed to a feature column.\n",
    "Cardata = { \"Mercedes\": [2, 4, 0, 4, 0, 3], \"Ford\": [3, 0, 0, 1, 6, 12], \"Tata\":[9, 3, 4, 1, 0, 0], \"Renault\":[12, 1, 0, 0, 3, 1]}\n",
    "Carsales = pd.DataFrame(Cardata)\n",
    "Carsales.rename(index={0: \"One\", 1: \"Two\", 2: \"Three\", 3: \"Four\", 4: \"Five\", 5: \"Six\"}, inplace=True)\n",
    "Carsales.insert(0, \"Sales_place_name\", [\"Europe 1\", \"Australia 1\", \"USA 1\", \"Asia 1\", \"Africa 1\", \"South America 1\"], allow_duplicates=True)\n",
    "Carsales2 = pd.DataFrame({\"Sales_place_name\": [\"South America 1\", \"Asia 1\"], \"Mercedes\": [3, 4], \"Ford\": [2, 1], \"Tata\": [1, 1], \"Renault\": [1, 0]})\n",
    "Carsales2.rename(index={0: \"Seven\", 1: \"Eight\"}, inplace=True)\n",
    "Carsales = pd.concat([Carsales, Carsales2])\n",
    "Carsales.index.rename(\"Sales place\", inplace=True)\n",
    "Carsales.reset_index(inplace=True)  # Turns index column into a feature column\n",
    "print(Carsales)\n",
    "\n",
    "# This DataFrame includes Car inventory data. Unique column values for \"Sales_place_name\", all included in Carsales and fewer labels than in the Carsales DataFrame.\n",
    "Inv_data = pd.DataFrame({\"Sales_place_name\": [\"Europe 1\", \"Australia 1\", \"USA 1\", \"Asia 1\", \"Africa 1\", \"South America 1\"], \"Car_inv\": [132, 54, 323, 267, 183, 172]})\n",
    "print(Inv_data)\n",
    "\n",
    "# This DataFrame includes Car inventory data. Non-unique Column values for \"Sales_place_name\", some included in Carsales and more labels than in the Carsales DataFrame.\n",
    "Inv_data2 = pd.DataFrame({\"Sales_place_name\": [\"Europe 1\", \"Europe 1\", \"Australia 1\", \"USA 1\", \"Asia 1\", \"Canada 1\", \"Africa 1\", \"South America 1\", \"South America 2\"], \"Car_inv\": [132, 131, 54, 323, 267, 45, 183, 172, 144]})\n",
    "print(Inv_data2)"
   ]
  },
  {
   "cell_type": "code",
   "execution_count": 16,
   "id": "848e9b9b-b3cc-4540-9769-5fdc7df3ded2",
   "metadata": {},
   "outputs": [
    {
     "name": "stdout",
     "output_type": "stream",
     "text": [
      "  Sales place Sales_place_name  Mercedes  Ford  Tata  Renault  Car_inv\n",
      "0         One         Europe 1         2     3     9       12      132\n",
      "1         Two      Australia 1         4     0     3        1       54\n",
      "2       Three            USA 1         0     0     4        0      323\n",
      "3        Four           Asia 1         4     1     1        0      267\n",
      "4        Five         Africa 1         0     6     0        3      183\n",
      "5         Six  South America 1         3    12     0        1      172\n",
      "6       Seven  South America 1         3     2     1        1      172\n",
      "7       Eight           Asia 1         4     1     1        0      267\n"
     ]
    }
   ],
   "source": [
    "print(Carsales.merge(Inv_data, how='inner', on=None, left_on='Sales_place_name', right_on='Sales_place_name')) "
   ]
  },
  {
   "cell_type": "code",
   "execution_count": 19,
   "id": "65a49c45-49c8-4348-805a-ff500bf37ba3",
   "metadata": {},
   "outputs": [
    {
     "name": "stdout",
     "output_type": "stream",
     "text": [
      "  Sales place Sales_place_name  Mercedes  Ford  Tata  Renault  Car_inv\n",
      "0         One         Europe 1         2     3     9       12      132\n",
      "1         One         Europe 1         2     3     9       12      131\n",
      "2         Two      Australia 1         4     0     3        1       54\n",
      "3       Three            USA 1         0     0     4        0      323\n",
      "4        Four           Asia 1         4     1     1        0      267\n",
      "5        Five         Africa 1         0     6     0        3      183\n",
      "6         Six  South America 1         3    12     0        1      172\n",
      "7       Seven  South America 1         3     2     1        1      172\n",
      "8       Eight           Asia 1         4     1     1        0      267\n"
     ]
    }
   ],
   "source": [
    "# inv data 2 had an additional Europe 1 sales place name which created a cartesian duplicate\n",
    "# additionally since we are using inner join the additional South America 2 does not show up\n",
    "print(Carsales.merge(Inv_data2, how='inner', on=None, left_on='Sales_place_name', right_on='Sales_place_name')) "
   ]
  },
  {
   "cell_type": "code",
   "execution_count": 20,
   "id": "470274e0-1a46-4814-8ba7-71bc21157737",
   "metadata": {},
   "outputs": [
    {
     "name": "stdout",
     "output_type": "stream",
     "text": [
      "  Sales place Sales_place_name  Mercedes  Ford  Tata  Renault  Car_inv\n",
      "0         One         Europe 1         2     3     9       12      132\n",
      "1         Two      Australia 1         4     0     3        1       54\n",
      "2       Three            USA 1         0     0     4        0      323\n",
      "3        Four           Asia 1         4     1     1        0      267\n",
      "4        Five         Africa 1         0     6     0        3      183\n",
      "5         Six  South America 1         3    12     0        1      172\n",
      "6       Seven  South America 1         3     2     1        1      172\n",
      "7       Eight           Asia 1         4     1     1        0      267\n"
     ]
    }
   ],
   "source": [
    "print(Carsales.merge(Inv_data, how='left', on=None, left_on='Sales_place_name', right_on='Sales_place_name')) "
   ]
  },
  {
   "cell_type": "code",
   "execution_count": 21,
   "id": "95df189f-5087-4904-bf6e-58780a2670da",
   "metadata": {},
   "outputs": [
    {
     "name": "stdout",
     "output_type": "stream",
     "text": [
      "  Sales place Sales_place_name  Mercedes  Ford  Tata  Renault  Car_inv\n",
      "0         One         Europe 1         2     3     9       12      132\n",
      "1         One         Europe 1         2     3     9       12      131\n",
      "2         Two      Australia 1         4     0     3        1       54\n",
      "3       Three            USA 1         0     0     4        0      323\n",
      "4        Four           Asia 1         4     1     1        0      267\n",
      "5        Five         Africa 1         0     6     0        3      183\n",
      "6         Six  South America 1         3    12     0        1      172\n",
      "7       Seven  South America 1         3     2     1        1      172\n",
      "8       Eight           Asia 1         4     1     1        0      267\n"
     ]
    }
   ],
   "source": [
    "print(Carsales.merge(Inv_data2, how='left', on=None, left_on='Sales_place_name', right_on='Sales_place_name')) "
   ]
  },
  {
   "cell_type": "code",
   "execution_count": 22,
   "id": "6002c81d-ad1f-4ce3-b796-d0be8106c380",
   "metadata": {},
   "outputs": [
    {
     "name": "stdout",
     "output_type": "stream",
     "text": [
      "  Sales place Sales_place_name  Mercedes  Ford  Tata  Renault  Car_inv\n",
      "0         One         Europe 1         2     3     9       12      132\n",
      "1         Two      Australia 1         4     0     3        1       54\n",
      "2       Three            USA 1         0     0     4        0      323\n",
      "3        Four           Asia 1         4     1     1        0      267\n",
      "4       Eight           Asia 1         4     1     1        0      267\n",
      "5        Five         Africa 1         0     6     0        3      183\n",
      "6         Six  South America 1         3    12     0        1      172\n",
      "7       Seven  South America 1         3     2     1        1      172\n"
     ]
    }
   ],
   "source": [
    "print(Carsales.merge(Inv_data, how='right', on=None, left_on='Sales_place_name', right_on='Sales_place_name')) "
   ]
  },
  {
   "cell_type": "code",
   "execution_count": 23,
   "id": "debb6c52-5f77-4398-b6c2-f690e59ce681",
   "metadata": {},
   "outputs": [
    {
     "name": "stdout",
     "output_type": "stream",
     "text": [
      "   Sales place Sales_place_name  Mercedes  Ford  Tata  Renault  Car_inv\n",
      "0          One         Europe 1       2.0   3.0   9.0     12.0      132\n",
      "1          One         Europe 1       2.0   3.0   9.0     12.0      131\n",
      "2          Two      Australia 1       4.0   0.0   3.0      1.0       54\n",
      "3        Three            USA 1       0.0   0.0   4.0      0.0      323\n",
      "4         Four           Asia 1       4.0   1.0   1.0      0.0      267\n",
      "5        Eight           Asia 1       4.0   1.0   1.0      0.0      267\n",
      "6          NaN         Canada 1       NaN   NaN   NaN      NaN       45\n",
      "7         Five         Africa 1       0.0   6.0   0.0      3.0      183\n",
      "8          Six  South America 1       3.0  12.0   0.0      1.0      172\n",
      "9        Seven  South America 1       3.0   2.0   1.0      1.0      172\n",
      "10         NaN  South America 2       NaN   NaN   NaN      NaN      144\n"
     ]
    }
   ],
   "source": [
    "print(Carsales.merge(Inv_data2, how='right', on=None, left_on='Sales_place_name', right_on='Sales_place_name')) "
   ]
  },
  {
   "cell_type": "code",
   "execution_count": 24,
   "id": "1f8481e3-880c-44ac-b27a-4e0f969a91fe",
   "metadata": {},
   "outputs": [
    {
     "name": "stdout",
     "output_type": "stream",
     "text": [
      "  Sales place Sales_place_name  Mercedes  Ford  Tata  Renault  Car_inv\n",
      "0        Five         Africa 1         0     6     0        3      183\n",
      "1        Four           Asia 1         4     1     1        0      267\n",
      "2       Eight           Asia 1         4     1     1        0      267\n",
      "3         Two      Australia 1         4     0     3        1       54\n",
      "4         One         Europe 1         2     3     9       12      132\n",
      "5         Six  South America 1         3    12     0        1      172\n",
      "6       Seven  South America 1         3     2     1        1      172\n",
      "7       Three            USA 1         0     0     4        0      323\n"
     ]
    }
   ],
   "source": [
    "print(Carsales.merge(Inv_data, how='outer', on=None, left_on='Sales_place_name', right_on='Sales_place_name')) "
   ]
  },
  {
   "cell_type": "code",
   "execution_count": 25,
   "id": "e7bcd210-3f2f-4227-b954-e5daf7015feb",
   "metadata": {},
   "outputs": [
    {
     "name": "stdout",
     "output_type": "stream",
     "text": [
      "   Sales place Sales_place_name  Mercedes  Ford  Tata  Renault  Car_inv\n",
      "0         Five         Africa 1       0.0   6.0   0.0      3.0      183\n",
      "1         Four           Asia 1       4.0   1.0   1.0      0.0      267\n",
      "2        Eight           Asia 1       4.0   1.0   1.0      0.0      267\n",
      "3          Two      Australia 1       4.0   0.0   3.0      1.0       54\n",
      "4          NaN         Canada 1       NaN   NaN   NaN      NaN       45\n",
      "5          One         Europe 1       2.0   3.0   9.0     12.0      132\n",
      "6          One         Europe 1       2.0   3.0   9.0     12.0      131\n",
      "7          Six  South America 1       3.0  12.0   0.0      1.0      172\n",
      "8        Seven  South America 1       3.0   2.0   1.0      1.0      172\n",
      "9          NaN  South America 2       NaN   NaN   NaN      NaN      144\n",
      "10       Three            USA 1       0.0   0.0   4.0      0.0      323\n"
     ]
    }
   ],
   "source": [
    "print(Carsales.merge(Inv_data2, how='outer', on=None, left_on='Sales_place_name', right_on='Sales_place_name')) "
   ]
  },
  {
   "cell_type": "code",
   "execution_count": null,
   "id": "ded82334-c229-461b-9772-a6f50a56f134",
   "metadata": {},
   "outputs": [],
   "source": []
  }
 ],
 "metadata": {
  "kernelspec": {
   "display_name": "Python 3 (ipykernel)",
   "language": "python",
   "name": "python3"
  },
  "language_info": {
   "codemirror_mode": {
    "name": "ipython",
    "version": 3
   },
   "file_extension": ".py",
   "mimetype": "text/x-python",
   "name": "python",
   "nbconvert_exporter": "python",
   "pygments_lexer": "ipython3",
   "version": "3.13.5"
  }
 },
 "nbformat": 4,
 "nbformat_minor": 5
}
