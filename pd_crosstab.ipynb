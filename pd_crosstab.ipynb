{
 "cells": [
  {
   "cell_type": "code",
   "execution_count": 49,
   "id": "76798dfa-b1eb-41ca-b613-961b8be2a45f",
   "metadata": {},
   "outputs": [
    {
     "name": "stdout",
     "output_type": "stream",
     "text": [
      "      Sales_place_name  Mercedes  Ford  Tata  Renault\n",
      "One           Europe 1         2     3     9       12\n",
      "Two        Australia 1         4     0     3        1\n",
      "Three            USA 1         0     0     4        0\n",
      "Four            Asia 1         4     1     1        0\n",
      "Five          Africa 1         0     6     0        3\n",
      "Six    South America 1         3    12     0        1\n",
      "Seven  South America 1         3     2     1        1\n",
      "Eight            USA 1         2    15     1        3\n",
      "Nine             USA 1         1    11     0        0\n"
     ]
    }
   ],
   "source": [
    "# Create three Pandas DataFrames\n",
    "import pandas as pd\n",
    "\n",
    "# This is the basic Carsales DataFrame extended with two more Sales places plus the index column transformed to a feature column.\n",
    "Cardata = { \"Mercedes\": [2, 4, 0, 4, 0, 3], \"Ford\": [3, 0, 0, 1, 6, 12], \"Tata\":[9, 3, 4, 1, 0, 0], \"Renault\":[12, 1, 0, 0, 3, 1]}\n",
    "Carsales = pd.DataFrame(Cardata)\n",
    "Carsales.rename(index={0: \"One\", 1: \"Two\", 2: \"Three\", 3: \"Four\", 4: \"Five\", 5: \"Six\"}, inplace=True)\n",
    "Carsales.insert(0, \"Sales_place_name\", [\"Europe 1\", \"Australia 1\", \"USA 1\", \"Asia 1\", \"Africa 1\", \"South America 1\"], allow_duplicates=True)\n",
    "Newsalesplace2 = pd.DataFrame({'Sales_place_name': 'South America 1', 'Mercedes': 3, 'Ford': 2, 'Tata': 1, 'Renault': 1}, index=['Seven'])\n",
    "Newsalesplace3 = pd.DataFrame({'Sales_place_name': 'USA 1', 'Mercedes': 2, 'Ford': 15, 'Tata': 1, 'Renault': 3}, index=['Eight'])\n",
    "Newsalesplace4 = pd.DataFrame({'Sales_place_name': 'USA 1', 'Mercedes': 1, 'Ford': 11, 'Tata': 0, 'Renault': 0}, index=['Nine'])\n",
    "Carsales = pd.concat([Carsales, Newsalesplace2, Newsalesplace3, Newsalesplace4])\n",
    "print(Carsales)\n",
    "\n",
    "def sales_rating(n_sold):\n",
    "    if n_sold >= 15:\n",
    "        return 'Excellent'\n",
    "    elif n_sold >= 5:\n",
    "        return 'Acceptable'   \n",
    "    else:\n",
    "        return 'Unacceptable'"
   ]
  },
  {
   "cell_type": "code",
   "execution_count": 27,
   "id": "44a14827-4e7c-4883-a7a2-6673048ebd65",
   "metadata": {},
   "outputs": [
    {
     "name": "stdout",
     "output_type": "stream",
     "text": [
      "Renault           0   1   3   12\n",
      "Sales_place_name                \n",
      "Africa 1           0   0   1   0\n",
      "Asia 1             1   0   0   0\n",
      "Australia 1        0   1   0   0\n",
      "Europe 1           0   0   0   1\n",
      "South America 1    0   2   0   0\n",
      "USA 1              2   0   1   0\n"
     ]
    }
   ],
   "source": [
    "# shows count of sales place for the occurances of a specific Renault sales values \n",
    "print(pd.crosstab(Carsales['Sales_place_name'], Carsales['Renault']))"
   ]
  },
  {
   "cell_type": "code",
   "execution_count": 28,
   "id": "33abda19-b830-4645-99ce-b340303d785a",
   "metadata": {},
   "outputs": [
    {
     "name": "stdout",
     "output_type": "stream",
     "text": [
      "Ford      0   1   2   3   6   11  12  15\n",
      "Mercedes                                \n",
      "0          1   0   0   0   1   0   0   0\n",
      "1          0   0   0   0   0   1   0   0\n",
      "2          0   0   0   1   0   0   0   1\n",
      "3          0   0   1   0   0   0   1   0\n",
      "4          1   1   0   0   0   0   0   0\n"
     ]
    }
   ],
   "source": [
    "# can also cross tabulate across values\n",
    "print(pd.crosstab(Carsales['Mercedes'], Carsales['Ford']))"
   ]
  },
  {
   "cell_type": "code",
   "execution_count": 29,
   "id": "e66a1cb8-d959-4df4-8add-5c240781b57f",
   "metadata": {},
   "outputs": [
    {
     "name": "stdout",
     "output_type": "stream",
     "text": [
      "Ford            0         1         2         3         6         11  \\\n",
      "Mercedes                                                               \n",
      "0         0.111111  0.000000  0.000000  0.000000  0.111111  0.000000   \n",
      "1         0.000000  0.000000  0.000000  0.000000  0.000000  0.111111   \n",
      "2         0.000000  0.000000  0.000000  0.111111  0.000000  0.000000   \n",
      "3         0.000000  0.000000  0.111111  0.000000  0.000000  0.000000   \n",
      "4         0.111111  0.111111  0.000000  0.000000  0.000000  0.000000   \n",
      "\n",
      "Ford            12        15  \n",
      "Mercedes                      \n",
      "0         0.000000  0.000000  \n",
      "1         0.000000  0.000000  \n",
      "2         0.000000  0.111111  \n",
      "3         0.111111  0.000000  \n",
      "4         0.000000  0.000000  \n"
     ]
    }
   ],
   "source": [
    "# all values in the table sum together to 1\n",
    "print(pd.crosstab(Carsales['Mercedes'], Carsales['Ford'], normalize=True))"
   ]
  },
  {
   "cell_type": "code",
   "execution_count": 30,
   "id": "c1b7ec54-2193-422b-b277-deada01f2155",
   "metadata": {},
   "outputs": [
    {
     "name": "stdout",
     "output_type": "stream",
     "text": [
      "Ford       0    1    2    3    6    11   12   15\n",
      "Mercedes                                        \n",
      "0         0.5  0.0  0.0  0.0  1.0  0.0  0.0  0.0\n",
      "1         0.0  0.0  0.0  0.0  0.0  1.0  0.0  0.0\n",
      "2         0.0  0.0  0.0  1.0  0.0  0.0  0.0  1.0\n",
      "3         0.0  0.0  1.0  0.0  0.0  0.0  1.0  0.0\n",
      "4         0.5  1.0  0.0  0.0  0.0  0.0  0.0  0.0\n"
     ]
    }
   ],
   "source": [
    "# can also normalize by column so columns sum to 1\n",
    "print(pd.crosstab(Carsales['Mercedes'], Carsales['Ford'], normalize='columns'))"
   ]
  },
  {
   "cell_type": "code",
   "execution_count": 51,
   "id": "4bbcd1b0-5879-4473-8ae7-6fe5b538c59e",
   "metadata": {},
   "outputs": [
    {
     "name": "stdout",
     "output_type": "stream",
     "text": [
      "                  Mercedes      Ford      Tata  Renault\n",
      "Sales_place_name                                       \n",
      "Africa 1               0.0  6.000000  0.000000      3.0\n",
      "Asia 1                 4.0  1.000000  1.000000      0.0\n",
      "Australia 1            4.0  0.000000  3.000000      1.0\n",
      "Europe 1               2.0  3.000000  9.000000     12.0\n",
      "South America 1        3.0  7.000000  0.500000      1.0\n",
      "USA 1                  1.0  8.666667  1.666667      1.0\n"
     ]
    }
   ],
   "source": [
    "print(Carsales.groupby(['Sales_place_name']).mean())"
   ]
  },
  {
   "cell_type": "code",
   "execution_count": 52,
   "id": "3a96f3f0-bb74-4918-8665-ee8459a505b5",
   "metadata": {},
   "outputs": [
    {
     "name": "stdout",
     "output_type": "stream",
     "text": [
      "                  Mercedes  Ford  Tata  Renault\n",
      "Sales_place_name                               \n",
      "Africa 1                 0     6     0        3\n",
      "Asia 1                   4     1     1        0\n",
      "Australia 1              4     0     3        1\n",
      "Europe 1                 2     3     9       12\n",
      "South America 1          6    14     1        2\n",
      "USA 1                    3    26     5        3\n"
     ]
    }
   ],
   "source": [
    "print(Carsales.groupby(['Sales_place_name']).sum())"
   ]
  },
  {
   "cell_type": "code",
   "execution_count": 55,
   "id": "c1ed7091-2b1c-4af4-97c9-e6b8b0955222",
   "metadata": {},
   "outputs": [
    {
     "name": "stdout",
     "output_type": "stream",
     "text": [
      "                       Sales_place_name  Mercedes  Ford  Tata  Renault\n",
      "Sales_place_name                                                      \n",
      "Africa 1         Five          Africa 1         0     6     0        3\n",
      "Asia 1           Four            Asia 1         4     1     1        0\n",
      "Australia 1      Two        Australia 1         4     0     3        1\n",
      "Europe 1         One           Europe 1         2     3     9       12\n",
      "South America 1  Six    South America 1         3    12     0        1\n",
      "                 Seven  South America 1         3     2     1        1\n",
      "USA 1            Three            USA 1         0     0     4        0\n",
      "                 Eight            USA 1         2    15     1        3\n",
      "                 Nine             USA 1         1    11     0        0\n"
     ]
    },
    {
     "name": "stderr",
     "output_type": "stream",
     "text": [
      "C:\\Users\\cooki\\AppData\\Local\\Temp\\ipykernel_17144\\1786996260.py:1: FutureWarning: DataFrameGroupBy.apply operated on the grouping columns. This behavior is deprecated, and in a future version of pandas the grouping columns will be excluded from the operation. Either pass `include_groups=False` to exclude the groupings or explicitly select the grouping columns after groupby to silence this warning.\n",
      "  print(Carsales.groupby(['Sales_place_name'], group_keys=True).apply(lambda x: x))\n"
     ]
    }
   ],
   "source": [
    "# shows the indices within the group by.  Lambda x:x just returns the same value but is required by groupby to actually show values\n",
    "# otherwise a groupby object is returned and the type of object is printed not the data\n",
    "print(Carsales.groupby(['Sales_place_name'], group_keys=True).apply(lambda x: x))"
   ]
  },
  {
   "cell_type": "code",
   "execution_count": 57,
   "id": "75c37dec-843c-49c5-ba6f-cf506c9fdb0c",
   "metadata": {},
   "outputs": [
    {
     "name": "stdout",
     "output_type": "stream",
     "text": [
      "      Sales_place_name  Mercedes  Ford  Tata  Renault  Sum        Rating\n",
      "One           Europe 1         2     3     9       12   26     Excellent\n",
      "Two        Australia 1         4     0     3        1    8    Acceptable\n",
      "Three            USA 1         0     0     4        0    4  Unacceptable\n",
      "Four            Asia 1         4     1     1        0    6    Acceptable\n",
      "Five          Africa 1         0     6     0        3    9    Acceptable\n",
      "Six    South America 1         3    12     0        1   16     Excellent\n",
      "Seven  South America 1         3     2     1        1    7    Acceptable\n",
      "Eight            USA 1         2    15     1        3   21     Excellent\n",
      "Nine             USA 1         1    11     0        0   12    Acceptable\n"
     ]
    }
   ],
   "source": [
    "# groupby is useful for creating data descriptions\n",
    "Carsales2 = Carsales.copy()\n",
    "Carsales2['Sum'] = Carsales2.drop([\"Sales_place_name\"], axis=1).sum(axis=1)\n",
    "Carsales2['Rating'] = Carsales2['Sum'].apply(sales_rating)\n",
    "print(Carsales2)"
   ]
  },
  {
   "cell_type": "code",
   "execution_count": 60,
   "id": "dbe3857c-a4fa-413d-a30f-611f19cecc15",
   "metadata": {},
   "outputs": [
    {
     "name": "stdout",
     "output_type": "stream",
     "text": [
      "Rating            Acceptable  Excellent  Unacceptable\n",
      "Sales_place_name                                     \n",
      "Africa 1                   1          0             0\n",
      "Asia 1                     1          0             0\n",
      "Australia 1                1          0             0\n",
      "Europe 1                   0          1             0\n",
      "South America 1            1          1             0\n",
      "USA 1                      1          1             1\n"
     ]
    }
   ],
   "source": [
    "print(pd.crosstab(Carsales2['Sales_place_name'], Carsales2['Rating']))"
   ]
  },
  {
   "cell_type": "code",
   "execution_count": 65,
   "id": "475ed521-2648-4ec2-8ef3-6904d9dc3c40",
   "metadata": {},
   "outputs": [
    {
     "name": "stdout",
     "output_type": "stream",
     "text": [
      "                   Sales_place_name  Mercedes  Ford  Tata  Renault  Sum  \\\n",
      "Rating                                                                    \n",
      "Acceptable   Two        Australia 1         4     0     3        1    8   \n",
      "             Four            Asia 1         4     1     1        0    6   \n",
      "             Five          Africa 1         0     6     0        3    9   \n",
      "             Seven  South America 1         3     2     1        1    7   \n",
      "             Nine             USA 1         1    11     0        0   12   \n",
      "Excellent    One           Europe 1         2     3     9       12   26   \n",
      "             Six    South America 1         3    12     0        1   16   \n",
      "             Eight            USA 1         2    15     1        3   21   \n",
      "Unacceptable Three            USA 1         0     0     4        0    4   \n",
      "\n",
      "                          Rating  \n",
      "Rating                            \n",
      "Acceptable   Two      Acceptable  \n",
      "             Four     Acceptable  \n",
      "             Five     Acceptable  \n",
      "             Seven    Acceptable  \n",
      "             Nine     Acceptable  \n",
      "Excellent    One       Excellent  \n",
      "             Six       Excellent  \n",
      "             Eight     Excellent  \n",
      "Unacceptable Three  Unacceptable  \n"
     ]
    },
    {
     "name": "stderr",
     "output_type": "stream",
     "text": [
      "C:\\Users\\cooki\\AppData\\Local\\Temp\\ipykernel_17144\\983548146.py:1: FutureWarning: DataFrameGroupBy.apply operated on the grouping columns. This behavior is deprecated, and in a future version of pandas the grouping columns will be excluded from the operation. Either pass `include_groups=False` to exclude the groupings or explicitly select the grouping columns after groupby to silence this warning.\n",
      "  print(Carsales2.groupby('Rating', group_keys=True).apply(lambda x:x))\n"
     ]
    }
   ],
   "source": [
    "print(Carsales2.groupby('Rating', group_keys=True).apply(lambda x:x))"
   ]
  },
  {
   "cell_type": "code",
   "execution_count": null,
   "id": "0acaaa16-ee7b-4400-b1ef-c1f30538363d",
   "metadata": {},
   "outputs": [],
   "source": []
  }
 ],
 "metadata": {
  "kernelspec": {
   "display_name": "Python 3 (ipykernel)",
   "language": "python",
   "name": "python3"
  },
  "language_info": {
   "codemirror_mode": {
    "name": "ipython",
    "version": 3
   },
   "file_extension": ".py",
   "mimetype": "text/x-python",
   "name": "python",
   "nbconvert_exporter": "python",
   "pygments_lexer": "ipython3",
   "version": "3.13.5"
  }
 },
 "nbformat": 4,
 "nbformat_minor": 5
}
