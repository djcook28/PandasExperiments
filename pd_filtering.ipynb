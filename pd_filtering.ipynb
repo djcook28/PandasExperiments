{
 "cells": [
  {
   "cell_type": "code",
   "execution_count": 3,
   "id": "238ffb63-0a84-4810-9b0e-e39c7febf803",
   "metadata": {},
   "outputs": [],
   "source": [
    "import pandas as pd"
   ]
  },
  {
   "cell_type": "code",
   "execution_count": 4,
   "id": "76798dfa-b1eb-41ca-b613-961b8be2a45f",
   "metadata": {},
   "outputs": [
    {
     "name": "stdout",
     "output_type": "stream",
     "text": [
      "             Mercedes  Ford  Tata  Renault\n",
      "Sales place                               \n",
      "One                 2     3     9       12\n",
      "Two                 4     0     3        1\n",
      "Three               0     0     4        0\n",
      "Four                4     1     1        0\n",
      "Five                0     6     0        3\n",
      "Six                 3    12     0        1\n"
     ]
    }
   ],
   "source": [
    "df = pd.read_csv('Carsales.csv', index_col=0)\n",
    "df.index.rename(\"Sales Place\")\n",
    "print(df)"
   ]
  },
  {
   "cell_type": "code",
   "execution_count": 9,
   "id": "c3c83dd4-b321-4c72-a242-64066f8f7395",
   "metadata": {},
   "outputs": [
    {
     "name": "stdout",
     "output_type": "stream",
     "text": [
      "Sales place\n",
      "One      9\n",
      "Two      3\n",
      "Three    4\n",
      "Four     1\n",
      "Five     0\n",
      "Six      0\n",
      "Name: Tata, dtype: int64\n"
     ]
    }
   ],
   "source": [
    "#print column as series obj\n",
    "print(df['Tata'])"
   ]
  },
  {
   "cell_type": "code",
   "execution_count": 11,
   "id": "3b2a1e67-7fbf-4767-ac3a-1d6bf493df18",
   "metadata": {},
   "outputs": [
    {
     "name": "stdout",
     "output_type": "stream",
     "text": [
      "             Tata\n",
      "Sales place      \n",
      "One             9\n",
      "Two             3\n",
      "Three           4\n",
      "Four            1\n",
      "Five            0\n",
      "Six             0\n"
     ]
    }
   ],
   "source": [
    "#print column as a df\n",
    "print(df[['Tata']])"
   ]
  },
  {
   "cell_type": "code",
   "execution_count": 15,
   "id": "e4dd8259-72ba-437a-9b30-91d9d1687a97",
   "metadata": {},
   "outputs": [
    {
     "name": "stdout",
     "output_type": "stream",
     "text": [
      "             Ford  Tata\n",
      "Sales place            \n",
      "One             3     9\n",
      "Two             0     3\n",
      "Three           0     4\n",
      "Four            1     1\n",
      "Five            6     0\n",
      "Six            12     0\n"
     ]
    }
   ],
   "source": [
    "#print multiple columns as a df, order defined in the df determines order in display\n",
    "#cant be done as a series as a series is defined as 1D\n",
    "print(df[['Ford', 'Tata']])"
   ]
  },
  {
   "cell_type": "code",
   "execution_count": 17,
   "id": "cc5e4f0b-4f6c-4ea0-9cb1-a1f1f5fc3d71",
   "metadata": {},
   "outputs": [
    {
     "name": "stdout",
     "output_type": "stream",
     "text": [
      "Sales place\n",
      "One       3\n",
      "Two       0\n",
      "Three     0\n",
      "Four      1\n",
      "Five      6\n",
      "Six      12\n",
      "Name: Ford, dtype: int64\n"
     ]
    }
   ],
   "source": [
    "print(df.iloc[:,1])"
   ]
  },
  {
   "cell_type": "code",
   "execution_count": 21,
   "id": "ba8b4504-e5da-4b5e-900f-a1cc1f8e0a64",
   "metadata": {},
   "outputs": [
    {
     "name": "stdout",
     "output_type": "stream",
     "text": [
      "             Ford  Tata\n",
      "Sales place            \n",
      "One             3     9\n",
      "Two             0     3\n",
      "Three           0     4\n"
     ]
    }
   ],
   "source": [
    "print(df.iloc[0:3,1:3])"
   ]
  },
  {
   "cell_type": "code",
   "execution_count": 6,
   "id": "8a98ff91-54f2-43b2-aec4-85338d75c510",
   "metadata": {},
   "outputs": [
    {
     "name": "stdout",
     "output_type": "stream",
     "text": [
      "             Mercedes  Ford  Tata  Renault\n",
      "Sales place                               \n",
      "Two                 4     0     3        1\n",
      "Four                4     1     1        0\n",
      "Six                 3    12     0        1\n"
     ]
    }
   ],
   "source": [
    "print(df.loc[df.Mercedes>2])"
   ]
  },
  {
   "cell_type": "code",
   "execution_count": 10,
   "id": "7f2b2b15-d715-4606-b9be-eb30c26bd9d3",
   "metadata": {},
   "outputs": [
    {
     "name": "stdout",
     "output_type": "stream",
     "text": [
      "             Mercedes  Ford  Tata  Renault\n",
      "Sales place                               \n",
      "One                 2     3     9       12\n",
      "Two                 4     0     3        1\n",
      "Four                4     1     1        0\n",
      "Five                0     6     0        3\n",
      "Six                 3    12     0        1\n"
     ]
    }
   ],
   "source": [
    "print(df.loc[(df.Mercedes>2) | (df.Ford >2)])"
   ]
  },
  {
   "cell_type": "code",
   "execution_count": 13,
   "id": "e12ff97b-a48e-4626-9ff6-8e3aaf5a72fa",
   "metadata": {},
   "outputs": [
    {
     "name": "stdout",
     "output_type": "stream",
     "text": [
      "             Mercedes  Ford  Tata  Renault\n",
      "Sales place                               \n",
      "Two                 4     0     3        1\n",
      "Four                4     1     1        0\n",
      "Six                 3    12     0        1\n"
     ]
    }
   ],
   "source": [
    "print(df.iloc[list(df.Mercedes>2)])"
   ]
  },
  {
   "cell_type": "code",
   "execution_count": 17,
   "id": "d4b18098-325b-4e29-8829-5fdb85666237",
   "metadata": {},
   "outputs": [
    {
     "name": "stdout",
     "output_type": "stream",
     "text": [
      "             Mercedes  Ford  Tata  Renault\n",
      "Sales place                               \n",
      "Two                 4     0     3        1\n",
      "Six                 3    12     0        1\n"
     ]
    }
   ],
   "source": [
    "sales_place_list = [\"Two\", \"Six\"]\n",
    "# use a list to filter a df\n",
    "print(df.loc[df.index.isin(sales_place_list)])"
   ]
  },
  {
   "cell_type": "code",
   "execution_count": 22,
   "id": "6b9fcb04-a21c-4f57-9c66-dbdfb32a4303",
   "metadata": {},
   "outputs": [
    {
     "name": "stdout",
     "output_type": "stream",
     "text": [
      "             Mercedes  Ford  Tata  Renault\n",
      "Sales place                               \n",
      "Three               0     0     4        0\n",
      "Four                4     1     1        0\n"
     ]
    }
   ],
   "source": [
    "sales_place_list2 = [2,3]\n",
    "print(df.iloc[sales_place_list2])"
   ]
  },
  {
   "cell_type": "code",
   "execution_count": 24,
   "id": "8c6e5b49-6813-4d35-ba5d-4a3e04f56201",
   "metadata": {},
   "outputs": [
    {
     "name": "stdout",
     "output_type": "stream",
     "text": [
      "             Mercedes  Ford  Tata  Renault\n",
      "Sales place                               \n",
      "Five                0     6     0        3\n"
     ]
    }
   ],
   "source": [
    "selected_index_labels = df.loc[df.index.str.contains(\"Five\")]\n",
    "print(selected_index_labels)"
   ]
  },
  {
   "cell_type": "code",
   "execution_count": 25,
   "id": "dfe9cea0-7121-4a9c-a571-bec08ac1cc0e",
   "metadata": {},
   "outputs": [
    {
     "name": "stdout",
     "output_type": "stream",
     "text": [
      "             Mercedes  Ford  Tata  Renault\n",
      "Sales place                               \n",
      "One                 2     3     9       12\n",
      "Five                0     6     0        3\n",
      "Six                 3    12     0        1\n"
     ]
    }
   ],
   "source": [
    "sales_between = df.loc[df[\"Ford\"].between(2, 20)]\n",
    "print(sales_between)"
   ]
  },
  {
   "cell_type": "code",
   "execution_count": 26,
   "id": "fa721da1-dac0-45c4-a4e2-7022c87d45c9",
   "metadata": {},
   "outputs": [
    {
     "name": "stdout",
     "output_type": "stream",
     "text": [
      "             Mercedes  Ford  Tata  Renault\n",
      "Sales place                               \n",
      "One                 2     3     9       12\n"
     ]
    }
   ],
   "source": [
    "sales_between = df.loc[df[\"Ford\"].between(2, 20) & df[\"Tata\"]>0]\n",
    "print(sales_between)"
   ]
  },
  {
   "cell_type": "code",
   "execution_count": null,
   "id": "c528f21f-266c-4781-9725-3edfd9bc919c",
   "metadata": {},
   "outputs": [],
   "source": []
  }
 ],
 "metadata": {
  "kernelspec": {
   "display_name": "Python 3 (ipykernel)",
   "language": "python",
   "name": "python3"
  },
  "language_info": {
   "codemirror_mode": {
    "name": "ipython",
    "version": 3
   },
   "file_extension": ".py",
   "mimetype": "text/x-python",
   "name": "python",
   "nbconvert_exporter": "python",
   "pygments_lexer": "ipython3",
   "version": "3.13.5"
  }
 },
 "nbformat": 4,
 "nbformat_minor": 5
}
